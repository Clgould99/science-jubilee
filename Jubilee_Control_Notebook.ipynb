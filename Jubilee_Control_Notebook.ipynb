{
 "cells": [
  {
   "cell_type": "code",
   "execution_count": 2,
   "id": "68634c1f",
   "metadata": {},
   "outputs": [],
   "source": [
    "%load_ext autoreload\n",
    "%autoreload 2"
   ]
  },
  {
   "cell_type": "code",
   "execution_count": 3,
   "id": "4078e101",
   "metadata": {
    "scrolled": true
   },
   "outputs": [
    {
     "ename": "ModuleNotFoundError",
     "evalue": "No module named 'labware'",
     "output_type": "error",
     "traceback": [
      "\u001b[0;31m---------------------------------------------------------------------------\u001b[0m",
      "\u001b[0;31mModuleNotFoundError\u001b[0m                       Traceback (most recent call last)",
      "Cell \u001b[0;32mIn[3], line 10\u001b[0m\n\u001b[1;32m      8\u001b[0m \u001b[38;5;28;01mfrom\u001b[39;00m \u001b[38;5;21;01mscience_jubilee\u001b[39;00m \u001b[38;5;28;01mimport\u001b[39;00m Machine \u001b[38;5;28;01mas\u001b[39;00m Jub\n\u001b[1;32m      9\u001b[0m \u001b[38;5;28;01mfrom\u001b[39;00m \u001b[38;5;21;01mscience_jubilee\u001b[39;00m\u001b[38;5;21;01m.\u001b[39;00m\u001b[38;5;21;01mlabware\u001b[39;00m\u001b[38;5;21;01m.\u001b[39;00m\u001b[38;5;21;01mLabware\u001b[39;00m \u001b[38;5;28;01mimport\u001b[39;00m Labware\n\u001b[0;32m---> 10\u001b[0m \u001b[38;5;28;01mfrom\u001b[39;00m \u001b[38;5;21;01mscience_jubilee\u001b[39;00m\u001b[38;5;21;01m.\u001b[39;00m\u001b[38;5;21;01mtools\u001b[39;00m \u001b[38;5;28;01mimport\u001b[39;00m Pipette, WebCamera, Tool\n\u001b[1;32m     13\u001b[0m \u001b[38;5;66;03m#import color_match\u001b[39;00m\n\u001b[1;32m     14\u001b[0m \u001b[38;5;66;03m#from color_match import BO_campaign\u001b[39;00m\n\u001b[1;32m     15\u001b[0m \u001b[38;5;66;03m#import jubilee_protocols\u001b[39;00m\n\u001b[1;32m     16\u001b[0m \u001b[38;5;66;03m#import ipywidgets as widgets\u001b[39;00m\n\u001b[1;32m     17\u001b[0m \u001b[38;5;28;01mimport\u001b[39;00m \u001b[38;5;21;01mnumpy\u001b[39;00m \u001b[38;5;28;01mas\u001b[39;00m \u001b[38;5;21;01mnp\u001b[39;00m\n",
      "File \u001b[0;32m~/Code/science_jubilee/science_jubilee/tools/WebCamera.py:11\u001b[0m\n\u001b[1;32m      8\u001b[0m \u001b[38;5;28;01mimport\u001b[39;00m \u001b[38;5;21;01mmatplotlib\u001b[39;00m\u001b[38;5;21;01m.\u001b[39;00m\u001b[38;5;21;01mpyplot\u001b[39;00m \u001b[38;5;28;01mas\u001b[39;00m \u001b[38;5;21;01mplt\u001b[39;00m\n\u001b[1;32m      9\u001b[0m \u001b[38;5;28;01mimport\u001b[39;00m \u001b[38;5;21;01mnumpy\u001b[39;00m \u001b[38;5;28;01mas\u001b[39;00m \u001b[38;5;21;01mnp\u001b[39;00m\n\u001b[0;32m---> 11\u001b[0m \u001b[38;5;28;01mfrom\u001b[39;00m \u001b[38;5;21;01mlabware\u001b[39;00m\u001b[38;5;21;01m.\u001b[39;00m\u001b[38;5;21;01mLabware\u001b[39;00m \u001b[38;5;28;01mimport\u001b[39;00m Well, Location\n\u001b[1;32m     12\u001b[0m \u001b[38;5;28;01mfrom\u001b[39;00m \u001b[38;5;21;01mtyping\u001b[39;00m \u001b[38;5;28;01mimport\u001b[39;00m Tuple, Union\n\u001b[1;32m     13\u001b[0m \u001b[38;5;28;01mfrom\u001b[39;00m \u001b[38;5;21;01mscience_jubilee\u001b[39;00m\u001b[38;5;21;01m.\u001b[39;00m\u001b[38;5;21;01mtools\u001b[39;00m\u001b[38;5;21;01m.\u001b[39;00m\u001b[38;5;21;01mTool\u001b[39;00m \u001b[38;5;28;01mimport\u001b[39;00m Tool, requires_active_tool\n",
      "\u001b[0;31mModuleNotFoundError\u001b[0m: No module named 'labware'"
     ]
    }
   ],
   "source": [
    "import sys\n",
    "\n",
    "#sys.path.append( '../')\n",
    "#sys.path.append('../science_jubilee/')\n",
    "#sys.path.append(\"C:/Users/meryp/Desktop/research/packages/bayesopt/\")\n",
    "#sys.path.append('C:/Users/meryp/Desktop/research/packages/jubilee_pipette_BOdemo/src/jubilee_pipette_bodemo/')\n",
    "\n",
    "from science_jubilee import Machine as Jub\n",
    "from science_jubilee.labware.Labware import Labware\n",
    "from science_jubilee.tools import Pipette, WebCamera, Tool\n",
    "\n",
    "\n",
    "#import color_match\n",
    "#from color_match import BO_campaign\n",
    "#import jubilee_protocols\n",
    "#import ipywidgets as widgets\n",
    "import numpy as np"
   ]
  },
  {
   "cell_type": "code",
   "execution_count": 3,
   "id": "cf594bcb",
   "metadata": {},
   "outputs": [
    {
     "name": "stdout",
     "output_type": "stream",
     "text": [
      "Warning: disconnecting this application from the network will halt connection to Jubilee.\n"
     ]
    },
    {
     "name": "stderr",
     "output_type": "stream",
     "text": [
      "/home/brendenpelkie/Code/science_jubilee/science_jubilee/Machine.py:291: UserWarning: Connection initiated with tool equipped. Use reload_tool() after instantiate this tool.\n",
      "  warnings.warn(\"Connection initiated with tool equipped. Use reload_tool() after instantiate this tool.\")\n"
     ]
    }
   ],
   "source": [
    "jubilee = Jub.Machine()"
   ]
  },
  {
   "cell_type": "code",
   "execution_count": 7,
   "id": "16143572",
   "metadata": {},
   "outputs": [],
   "source": [
    "jubilee.home_all()"
   ]
  },
  {
   "cell_type": "code",
   "execution_count": 4,
   "id": "09dedd42",
   "metadata": {},
   "outputs": [],
   "source": [
    "deck = jubilee.load_deck('lab_automation_deck.json')\n"
   ]
  },
  {
   "cell_type": "code",
   "execution_count": 5,
   "id": "ee1f8faf",
   "metadata": {},
   "outputs": [],
   "source": [
    "tiprack = jubilee.load_labware('opentrons_96_tiprack_300ul.json', 0)"
   ]
  },
  {
   "cell_type": "code",
   "execution_count": 6,
   "id": "51e8527c",
   "metadata": {},
   "outputs": [],
   "source": [
    "samples = jubilee.load_labware('falcon_48_wellplate_1500ul.json', 3)\n",
    "stocks = jubilee.load_labware('20mlscintillation_12_wellplate_18000ul.json', 2)\n",
    "trash = jubilee.load_labware('agilent_1_reservoir_290ml.json', 1)"
   ]
  },
  {
   "cell_type": "code",
   "execution_count": 9,
   "id": "897d5c82",
   "metadata": {},
   "outputs": [],
   "source": [
    "P300 = Pipette.Pipette.from_config(jubilee, 1, 'Pipette', 'P300_config.json')\n",
    "jubilee.load_tool(P300)\n",
    "P300.add_tiprack(tiprack)"
   ]
  },
  {
   "cell_type": "code",
   "execution_count": 14,
   "id": "17d68757",
   "metadata": {},
   "outputs": [],
   "source": [
    "Camera = WebCamera.Camera.from_config(jubilee, 0, 'Camera', 'WebCamera_config.json')\n",
    "jubilee.load_tool(Camera)"
   ]
  },
  {
   "cell_type": "code",
   "execution_count": 10,
   "id": "32729506",
   "metadata": {},
   "outputs": [],
   "source": [
    "# Move the plate down to load all necessary labware\n",
    "jubilee.move_to(z=115)"
   ]
  },
  {
   "cell_type": "code",
   "execution_count": 11,
   "id": "ec07cb0d",
   "metadata": {},
   "outputs": [],
   "source": [
    "jubilee.pickup_tool(P300)"
   ]
  },
  {
   "cell_type": "code",
   "execution_count": 12,
   "id": "3f5bce47",
   "metadata": {
    "scrolled": true
   },
   "outputs": [
    {
     "ename": "ToolStateError",
     "evalue": "Error: No tip is attached. Cannot complete this action",
     "output_type": "error",
     "traceback": [
      "\u001b[0;31m---------------------------------------------------------------------------\u001b[0m",
      "\u001b[0;31mToolStateError\u001b[0m                            Traceback (most recent call last)",
      "Cell \u001b[0;32mIn[12], line 1\u001b[0m\n\u001b[0;32m----> 1\u001b[0m \u001b[43mP300\u001b[49m\u001b[38;5;241;43m.\u001b[39;49m\u001b[43mdrop_tip\u001b[49m\u001b[43m(\u001b[49m\u001b[43mtrash\u001b[49m\u001b[43m[\u001b[49m\u001b[38;5;241;43m0\u001b[39;49m\u001b[43m]\u001b[49m\u001b[43m)\u001b[49m\n",
      "File \u001b[0;32m~/Code/science_jubilee/science_jubilee/tools/Tool.py:41\u001b[0m, in \u001b[0;36mrequires_active_tool.<locals>.wrapper\u001b[0;34m(self, *args, **kwargs)\u001b[0m\n\u001b[1;32m     39\u001b[0m     \u001b[38;5;28;01mraise\u001b[39;00m ToolStateError (\u001b[38;5;124mf\u001b[39m\u001b[38;5;124m\"\u001b[39m\u001b[38;5;124mError: Tool \u001b[39m\u001b[38;5;132;01m{\u001b[39;00m\u001b[38;5;28mself\u001b[39m\u001b[38;5;241m.\u001b[39mname\u001b[38;5;132;01m}\u001b[39;00m\u001b[38;5;124m is not the current `Active Tool`. Cannot perform this action\u001b[39m\u001b[38;5;124m\"\u001b[39m)\n\u001b[1;32m     40\u001b[0m \u001b[38;5;28;01melse\u001b[39;00m:\n\u001b[0;32m---> 41\u001b[0m     \u001b[38;5;28;01mreturn\u001b[39;00m \u001b[43mfunc\u001b[49m\u001b[43m(\u001b[49m\u001b[38;5;28;43mself\u001b[39;49m\u001b[43m,\u001b[49m\u001b[38;5;241;43m*\u001b[39;49m\u001b[43margs\u001b[49m\u001b[43m,\u001b[49m\u001b[43m \u001b[49m\u001b[38;5;241;43m*\u001b[39;49m\u001b[38;5;241;43m*\u001b[39;49m\u001b[43mkwargs\u001b[49m\u001b[43m)\u001b[49m\n",
      "File \u001b[0;32m~/Code/science_jubilee/science_jubilee/tools/Pipette.py:18\u001b[0m, in \u001b[0;36mtip_check.<locals>.wrapper\u001b[0;34m(self, *args, **kwargs)\u001b[0m\n\u001b[1;32m     16\u001b[0m \u001b[38;5;28;01mdef\u001b[39;00m \u001b[38;5;21mwrapper\u001b[39m(\u001b[38;5;28mself\u001b[39m, \u001b[38;5;241m*\u001b[39margs, \u001b[38;5;241m*\u001b[39m\u001b[38;5;241m*\u001b[39mkwargs):\n\u001b[1;32m     17\u001b[0m     \u001b[38;5;28;01mif\u001b[39;00m \u001b[38;5;28mself\u001b[39m\u001b[38;5;241m.\u001b[39mhas_tip \u001b[38;5;241m==\u001b[39m \u001b[38;5;28;01mFalse\u001b[39;00m:\n\u001b[0;32m---> 18\u001b[0m         \u001b[38;5;28;01mraise\u001b[39;00m ToolStateError (\u001b[38;5;124m\"\u001b[39m\u001b[38;5;124mError: No tip is attached. Cannot complete this action\u001b[39m\u001b[38;5;124m\"\u001b[39m)\n\u001b[1;32m     19\u001b[0m     \u001b[38;5;28;01melse\u001b[39;00m:\n\u001b[1;32m     20\u001b[0m         func(\u001b[38;5;28mself\u001b[39m,\u001b[38;5;241m*\u001b[39margs, \u001b[38;5;241m*\u001b[39m\u001b[38;5;241m*\u001b[39mkwargs)\n",
      "\u001b[0;31mToolStateError\u001b[0m: Error: No tip is attached. Cannot complete this action"
     ]
    }
   ],
   "source": [
    "P300.drop_tip(trash[0])"
   ]
  },
  {
   "cell_type": "code",
   "execution_count": 18,
   "id": "572fd14d",
   "metadata": {},
   "outputs": [],
   "source": [
    "jubilee.park_tool()"
   ]
  },
  {
   "cell_type": "code",
   "execution_count": 13,
   "id": "d8fd5656",
   "metadata": {
    "scrolled": true
   },
   "outputs": [],
   "source": [
    "P300.prime()"
   ]
  },
  {
   "cell_type": "code",
   "execution_count": 22,
   "id": "c47dbe70",
   "metadata": {},
   "outputs": [],
   "source": [
    "jubilee.move_to(x=samples[0].x, y=samples[0].y)"
   ]
  },
  {
   "cell_type": "code",
   "execution_count": 16,
   "id": "dad96541",
   "metadata": {},
   "outputs": [],
   "source": [
    "P300.pickup_tip()"
   ]
  },
  {
   "cell_type": "code",
   "execution_count": 17,
   "id": "00d6b73f",
   "metadata": {},
   "outputs": [],
   "source": [
    "P300.aspirate(250, stocks[2])\n",
    "# P300.dispense(250, samples[1])"
   ]
  },
  {
   "cell_type": "code",
   "execution_count": 35,
   "id": "3a362c47",
   "metadata": {},
   "outputs": [],
   "source": [
    "P300.transfer(250, stocks[2], samples[1])"
   ]
  },
  {
   "cell_type": "code",
   "execution_count": 36,
   "id": "16c2b2db",
   "metadata": {},
   "outputs": [],
   "source": [
    "P300.mix(250, 2)"
   ]
  },
  {
   "cell_type": "code",
   "execution_count": 18,
   "id": "9207ed40",
   "metadata": {},
   "outputs": [],
   "source": [
    "P300.blowout()"
   ]
  },
  {
   "cell_type": "code",
   "execution_count": 111,
   "id": "ea82d8aa",
   "metadata": {},
   "outputs": [
    {
     "name": "stdout",
     "output_type": "stream",
     "text": [
      "Pipette tips iterated\n"
     ]
    }
   ],
   "source": [
    "P300.drop_tip(trash[0])"
   ]
  },
  {
   "cell_type": "code",
   "execution_count": 112,
   "id": "0ad79ad3",
   "metadata": {},
   "outputs": [],
   "source": [
    "jubilee.park_tool()"
   ]
  },
  {
   "cell_type": "code",
   "execution_count": 40,
   "id": "95becc09",
   "metadata": {},
   "outputs": [],
   "source": [
    "jubilee.pickup_tool(P300)"
   ]
  },
  {
   "cell_type": "code",
   "execution_count": 41,
   "id": "4a560192",
   "metadata": {},
   "outputs": [],
   "source": [
    "jubilee.move_to(x=samples[0].x, y=samples[0].y)"
   ]
  },
  {
   "cell_type": "code",
   "execution_count": 108,
   "id": "14025c4a",
   "metadata": {},
   "outputs": [
    {
     "data": {
      "text/plain": [
       "174.26999999999998"
      ]
     },
     "execution_count": 108,
     "metadata": {},
     "output_type": "execute_result"
    }
   ],
   "source": [
    "P300.current_well.y"
   ]
  },
  {
   "cell_type": "code",
   "execution_count": 99,
   "id": "663a47c2",
   "metadata": {},
   "outputs": [],
   "source": [
    "import numpy as np"
   ]
  },
  {
   "cell_type": "markdown",
   "id": "6be80dff",
   "metadata": {},
   "source": [
    "Test Camera"
   ]
  },
  {
   "cell_type": "code",
   "execution_count": 136,
   "id": "64838165",
   "metadata": {},
   "outputs": [
    {
     "ename": "ValueError",
     "evalue": "Unknown tool format <class 'tools.WebCamera.Camera'>",
     "output_type": "error",
     "traceback": [
      "\u001b[1;31m---------------------------------------------------------------------------\u001b[0m",
      "\u001b[1;31mValueError\u001b[0m                                Traceback (most recent call last)",
      "\u001b[1;32m~\\AppData\\Local\\Temp/ipykernel_18932/259304909.py\u001b[0m in \u001b[0;36m<module>\u001b[1;34m\u001b[0m\n\u001b[1;32m----> 1\u001b[1;33m \u001b[0mjubilee\u001b[0m\u001b[1;33m.\u001b[0m\u001b[0mpickup_tool\u001b[0m\u001b[1;33m(\u001b[0m\u001b[0mCamera\u001b[0m\u001b[1;33m)\u001b[0m\u001b[1;33m\u001b[0m\u001b[1;33m\u001b[0m\u001b[0m\n\u001b[0m",
      "\u001b[1;32m~\\Desktop\\research\\packages\\Machine_Agency_science_jubilee\\Notebooks\\..\\science_jubilee\\Machine.py\u001b[0m in \u001b[0;36mz_check\u001b[1;34m(self, *args, **kwds)\u001b[0m\n\u001b[0;32m     83\u001b[0m         \u001b[1;32mif\u001b[0m \u001b[0mcurrent_z\u001b[0m \u001b[1;33m<\u001b[0m \u001b[0msafe_z\u001b[0m\u001b[1;33m:\u001b[0m\u001b[1;33m\u001b[0m\u001b[1;33m\u001b[0m\u001b[0m\n\u001b[0;32m     84\u001b[0m             \u001b[0mself\u001b[0m\u001b[1;33m.\u001b[0m\u001b[0mmove_to\u001b[0m\u001b[1;33m(\u001b[0m\u001b[0mz\u001b[0m\u001b[1;33m=\u001b[0m\u001b[0msafe_z\u001b[0m \u001b[1;33m+\u001b[0m \u001b[1;36m20\u001b[0m\u001b[1;33m)\u001b[0m\u001b[1;33m\u001b[0m\u001b[1;33m\u001b[0m\u001b[0m\n\u001b[1;32m---> 85\u001b[1;33m         \u001b[1;32mreturn\u001b[0m \u001b[0mfunc\u001b[0m\u001b[1;33m(\u001b[0m\u001b[0mself\u001b[0m\u001b[1;33m,\u001b[0m \u001b[1;33m*\u001b[0m\u001b[0margs\u001b[0m\u001b[1;33m,\u001b[0m \u001b[1;33m**\u001b[0m\u001b[0mkwds\u001b[0m\u001b[1;33m)\u001b[0m\u001b[1;33m\u001b[0m\u001b[1;33m\u001b[0m\u001b[0m\n\u001b[0m\u001b[0;32m     86\u001b[0m \u001b[1;33m\u001b[0m\u001b[0m\n\u001b[0;32m     87\u001b[0m     \u001b[1;32mreturn\u001b[0m \u001b[0mz_check\u001b[0m\u001b[1;33m\u001b[0m\u001b[1;33m\u001b[0m\u001b[0m\n",
      "\u001b[1;32m~\\Desktop\\research\\packages\\Machine_Agency_science_jubilee\\Notebooks\\..\\science_jubilee\\Machine.py\u001b[0m in \u001b[0;36mpickup_tool\u001b[1;34m(self, tool_id)\u001b[0m\n\u001b[0;32m    750\u001b[0m                 )\n\u001b[0;32m    751\u001b[0m         \u001b[1;32melse\u001b[0m\u001b[1;33m:\u001b[0m\u001b[1;33m\u001b[0m\u001b[1;33m\u001b[0m\u001b[0m\n\u001b[1;32m--> 752\u001b[1;33m             \u001b[1;32mraise\u001b[0m \u001b[0mValueError\u001b[0m\u001b[1;33m(\u001b[0m\u001b[1;34mf\"Unknown tool format {type(tool_id)}\"\u001b[0m\u001b[1;33m)\u001b[0m\u001b[1;33m\u001b[0m\u001b[1;33m\u001b[0m\u001b[0m\n\u001b[0m\u001b[0;32m    753\u001b[0m \u001b[1;33m\u001b[0m\u001b[0m\n\u001b[0;32m    754\u001b[0m \u001b[1;31m#         self.safe_z_movement()\u001b[0m\u001b[1;33m\u001b[0m\u001b[1;33m\u001b[0m\u001b[0m\n",
      "\u001b[1;31mValueError\u001b[0m: Unknown tool format <class 'tools.WebCamera.Camera'>"
     ]
    }
   ],
   "source": [
    "jubilee.pickup_tool(Camera)"
   ]
  },
  {
   "cell_type": "code",
   "execution_count": 30,
   "id": "0e7ff21d",
   "metadata": {},
   "outputs": [],
   "source": [
    "jubilee.move_to(x= samples[0].x, y= samples[0].y)"
   ]
  },
  {
   "cell_type": "code",
   "execution_count": 83,
   "id": "850e5b6d",
   "metadata": {},
   "outputs": [],
   "source": [
    "jubilee.park_tool()"
   ]
  }
 ],
 "metadata": {
  "kernelspec": {
   "display_name": "Python 3 (ipykernel)",
   "language": "python",
   "name": "python3"
  },
  "language_info": {
   "codemirror_mode": {
    "name": "ipython",
    "version": 3
   },
   "file_extension": ".py",
   "mimetype": "text/x-python",
   "name": "python",
   "nbconvert_exporter": "python",
   "pygments_lexer": "ipython3",
   "version": "3.9.18"
  }
 },
 "nbformat": 4,
 "nbformat_minor": 5
}
