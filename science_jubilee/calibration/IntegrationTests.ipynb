{
 "cells": [
  {
   "cell_type": "code",
   "execution_count": 1,
   "id": "70a3521f-de88-4091-a7c9-1e19de1eceb6",
   "metadata": {
    "tags": []
   },
   "outputs": [],
   "source": [
    "from science_jubilee.Machine import Machine\n",
    "from science_jubilee.tools.Camera import Camera\n",
    "from science_jubilee.decks.Deck import Deck\n",
    "%load_ext autoreload\n",
    "%autoreload 2"
   ]
  },
  {
   "cell_type": "code",
   "execution_count": 2,
   "id": "a75259b4-0cfe-436b-8c78-df28521c398e",
   "metadata": {
    "tags": []
   },
   "outputs": [
    {
     "name": "stdout",
     "output_type": "stream",
     "text": [
      "Warning: disconnecting this application from the network will halt connection to Jubilee.\n"
     ]
    },
    {
     "name": "stderr",
     "output_type": "stream",
     "text": [
      "/home/pi/science_jubilee/science_jubilee/Machine.py:332: UserWarning: Connection initiated with tool equipped. Use reload_tool() after instantiate this tool.\n",
      "  warnings.warn(\"Connection initiated with tool equipped. Use reload_tool() after instantiate this tool.\")\n"
     ]
    }
   ],
   "source": [
    "m = Machine(address='jubilee.local')"
   ]
  },
  {
   "cell_type": "code",
   "execution_count": 3,
   "id": "12f2ef15-7b6b-43e1-908a-876a378c7545",
   "metadata": {
    "tags": []
   },
   "outputs": [],
   "source": [
    "camera = Camera(3, \"camtool\")"
   ]
  },
  {
   "cell_type": "code",
   "execution_count": 4,
   "id": "fd05fee6-c43f-4dda-b0ae-162a7f105ae5",
   "metadata": {
    "tags": []
   },
   "outputs": [],
   "source": [
    "m.reload_tool(camera)"
   ]
  },
  {
   "cell_type": "code",
   "execution_count": 7,
   "id": "e93bfe1b-9100-4df8-af90-9cb39251707c",
   "metadata": {
    "tags": []
   },
   "outputs": [],
   "source": [
    "m.pickup_tool(camera)"
   ]
  },
  {
   "cell_type": "code",
   "execution_count": 6,
   "id": "da05da9a-fc6b-43ad-a9e5-78c4c8c47ebd",
   "metadata": {
    "tags": []
   },
   "outputs": [],
   "source": [
    "deck = m.load_deck(\"lab_automation_deck_MAfeb\")"
   ]
  },
  {
   "cell_type": "code",
   "execution_count": 8,
   "id": "9768b053-7ee4-40c6-9fe5-db3b9ef96e7a",
   "metadata": {
    "tags": []
   },
   "outputs": [],
   "source": [
    "# l = deck.load_labware(\"corning_24_wellplate_3.4ml_flat\", 0)\n",
    "l = deck.load_labware(\"corning_96_wellplate_360ul_flat\", 2)"
   ]
  },
  {
   "cell_type": "code",
   "execution_count": 9,
   "id": "8dc8bbca-e69c-4cec-bd5a-b834793540fb",
   "metadata": {
    "tags": []
   },
   "outputs": [
    {
     "data": {
      "text/plain": [
       "Well(name='A1', depth=10.67, totalLiquidVolume=360, shape='circular', diameter=6.86, xDimension=None, yDimension=None, x=33.88, y=176.83999999999997, z=3.55, offset=[19.5, 102.6], slot=2)"
      ]
     },
     "execution_count": 9,
     "metadata": {},
     "output_type": "execute_result"
    }
   ],
   "source": [
    "well = l[\"A1\"]\n",
    "well"
   ]
  },
  {
   "cell_type": "code",
   "execution_count": null,
   "id": "09bc0ff0-3735-4d45-b11c-2a9b8ff4c048",
   "metadata": {
    "tags": []
   },
   "outputs": [],
   "source": [
    "m.move_to(x=well.x, y=well.y)"
   ]
  },
  {
   "cell_type": "code",
   "execution_count": 54,
   "id": "29f128f3-79fa-43e3-ad39-fe4732fdb8df",
   "metadata": {
    "tags": []
   },
   "outputs": [],
   "source": [
    "f = camera.get_well_image(well=well)"
   ]
  },
  {
   "cell_type": "code",
   "execution_count": 55,
   "id": "a26d1f17-019d-48fb-bbf2-3969d839edff",
   "metadata": {
    "tags": []
   },
   "outputs": [],
   "source": [
    "import cv2\n",
    "import numpy as np\n",
    "from matplotlib import pyplot as plt\n",
    "\n",
    "def process_image(image_bin):\n",
    "    \"\"\"\n",
    "    externally callable function to run processing pipeline\n",
    "    \n",
    "    takes an image as a bstring\n",
    "    \"\"\"\n",
    "    image = cv2.cvtColor(f, cv2.COLOR_BGR2RGB)\n",
    "    radius = 30\n",
    "    masked_image = _mask_image(image, radius)\n",
    "    plt.imshow(masked_image)\n",
    "    plt.show()\n",
    "    values = _get_rgb_avg(masked_image)\n",
    "    return values\n",
    "\n",
    "\n",
    "\n",
    "def _mask_image(image, radius):\n",
    "\n",
    "    mask = np.zeros(image.shape[:2], dtype = \"uint8\")\n",
    "    cv2.circle(mask, (600, 600), radius, 255, -1)\n",
    "    masked = cv2.bitwise_and(image, image, mask=mask)\n",
    "\n",
    "    return masked\n",
    "\n",
    "\n",
    "\n",
    "def _get_rgb_avg(image):\n",
    "    bgr = []\n",
    "    for dim in [0,1,2]:\n",
    "        flatdim = image[:,:,dim].flatten()\n",
    "        indices = flatdim.nonzero()[0]\n",
    "        value = flatdim.flatten()[indices].mean()\n",
    "        bgr.append(value)\n",
    "\n",
    "    rgb = [bgr[i] for i in [2,1,0]]\n",
    "\n",
    "    return rgb"
   ]
  },
  {
   "cell_type": "code",
   "execution_count": 56,
   "id": "e6a5cdbf-c0bf-4441-947d-d47c84b9bbf3",
   "metadata": {
    "tags": []
   },
   "outputs": [],
   "source": [
    "RGB = process_image(f)"
   ]
  },
  {
   "cell_type": "code",
   "execution_count": 57,
   "id": "8848d4c4-8d5a-4e52-9d5f-96ddab012bd1",
   "metadata": {},
   "outputs": [
    {
     "data": {
      "text/plain": [
       "[81.42923351158645, 41.96738745125842, 124.6937256292095]"
      ]
     },
     "execution_count": 57,
     "metadata": {},
     "output_type": "execute_result"
    }
   ],
   "source": [
    "RGB"
   ]
  },
  {
   "cell_type": "code",
   "execution_count": null,
   "id": "0d3fcad5-dd34-43a7-b5d0-aace4bda523b",
   "metadata": {},
   "outputs": [],
   "source": []
  }
 ],
 "metadata": {
  "kernelspec": {
   "display_name": "science_jubilee_dev",
   "language": "python",
   "name": "science_jubilee_dev"
  },
  "language_info": {
   "codemirror_mode": {
    "name": "ipython",
    "version": 3
   },
   "file_extension": ".py",
   "mimetype": "text/x-python",
   "name": "python",
   "nbconvert_exporter": "python",
   "pygments_lexer": "ipython3",
   "version": "3.7.3"
  }
 },
 "nbformat": 4,
 "nbformat_minor": 5
}
