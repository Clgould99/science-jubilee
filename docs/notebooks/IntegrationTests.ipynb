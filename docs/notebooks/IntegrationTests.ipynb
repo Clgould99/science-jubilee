{
 "cells": [
  {
   "cell_type": "code",
   "execution_count": null,
   "id": "81e3f644-d121-43c4-9771-7279112614f4",
   "metadata": {
    "tags": []
   },
   "outputs": [],
   "source": [
    "from science_jubilee.Machine import Machine"
   ]
  },
  {
   "cell_type": "code",
   "execution_count": null,
   "id": "c0fb2556-e63b-4c2e-8ce4-6c6a33f84da8",
   "metadata": {
    "tags": []
   },
   "outputs": [],
   "source": [
    "from science_jubilee.decks.Deck import Deck\n",
    "from science_jubilee.tools.Syringe import Syringe\n",
    "from science_jubilee.tools.Loop import Loop\n",
    "from science_jubilee.tools.Camera import Camera\n",
    "from science_jubilee.tools.Pipette import Pipette"
   ]
  },
  {
   "cell_type": "code",
   "execution_count": null,
   "id": "20937719-861b-44ee-9123-1436b7872f6d",
   "metadata": {
    "tags": []
   },
   "outputs": [],
   "source": [
    "m = Machine(address=\"jubilee.local\")"
   ]
  },
  {
   "cell_type": "code",
   "execution_count": null,
   "id": "c06c53e4-174f-46ab-8caa-b339476e99b8",
   "metadata": {},
   "outputs": [],
   "source": [
    "deck = m.load_deck('lab_automation_deck_MAfeb')"
   ]
  },
  {
   "cell_type": "code",
   "execution_count": null,
   "id": "4a3285f1-c9da-48eb-ab97-ac7fe515a111",
   "metadata": {
    "tags": []
   },
   "outputs": [],
   "source": [
    "labware = deck.load_labware('corning_96_wellplate_360ul_flat', 5)"
   ]
  },
  {
   "cell_type": "code",
   "execution_count": null,
   "id": "42adaa75-c383-4b7f-9376-3dc89c25dfb1",
   "metadata": {
    "tags": []
   },
   "outputs": [],
   "source": [
    "labware.get_column(12)"
   ]
  },
  {
   "cell_type": "code",
   "execution_count": null,
   "id": "0d59df5c-f395-4467-ab70-aa4a89398ffc",
   "metadata": {
    "tags": []
   },
   "outputs": [],
   "source": [
    "well = labware[\"A1\"]"
   ]
  },
  {
   "cell_type": "code",
   "execution_count": null,
   "id": "7f60dcab-3467-4253-a7e0-0bd9544970f3",
   "metadata": {
    "tags": []
   },
   "outputs": [],
   "source": [
    "well"
   ]
  },
  {
   "cell_type": "code",
   "execution_count": null,
   "id": "0bb330d6-784c-4cfd-8b73-127c11f8ae37",
   "metadata": {
    "tags": []
   },
   "outputs": [],
   "source": [
    "camera = Camera(3, 'cam')\n",
    "m.load_tool(camera)"
   ]
  },
  {
   "cell_type": "code",
   "execution_count": null,
   "id": "61fde610-8d23-427e-8ac5-b6b60e10ee01",
   "metadata": {
    "tags": []
   },
   "outputs": [],
   "source": [
    "m.pickup_tool(camera)"
   ]
  },
  {
   "cell_type": "code",
   "execution_count": null,
   "id": "8fe21252-1338-4871-bf66-8d4095555e89",
   "metadata": {
    "tags": []
   },
   "outputs": [],
   "source": [
    "m.move_to(x=well.x, y=well.y)"
   ]
  },
  {
   "cell_type": "code",
   "execution_count": null,
   "id": "ff1263a1-2630-4a30-8b21-0d7e331c5c65",
   "metadata": {
    "tags": []
   },
   "outputs": [],
   "source": [
    "camera.video_stream()"
   ]
  },
  {
   "cell_type": "code",
   "execution_count": null,
   "id": "a5527d4b-f98d-41e5-bb2b-fda461c3d8a5",
   "metadata": {
    "tags": []
   },
   "outputs": [],
   "source": [
    "pipette = Pipette.from_config(1, 'ot', 'P300_config.json')\n",
    "m.load_tool(pipette)"
   ]
  },
  {
   "cell_type": "code",
   "execution_count": null,
   "id": "2cc61f84-56c4-44b4-915c-12c47a02846d",
   "metadata": {
    "tags": []
   },
   "outputs": [],
   "source": [
    "tip_rack = deck.load_labware('opentrons_96_tiprack_300ul', 4)"
   ]
  },
  {
   "cell_type": "code",
   "execution_count": null,
   "id": "cf4cfd98-c086-4051-8965-a99238c54beb",
   "metadata": {
    "tags": []
   },
   "outputs": [],
   "source": [
    "pipette.add_tiprack(tip_rack)"
   ]
  },
  {
   "cell_type": "code",
   "execution_count": null,
   "id": "670266eb-c3bc-42ab-9f9f-6c94d2ddad4f",
   "metadata": {
    "tags": []
   },
   "outputs": [],
   "source": [
    "pipette.first_available_tip"
   ]
  },
  {
   "cell_type": "code",
   "execution_count": null,
   "id": "33951a77-ff23-4e35-ab01-6fca0d3101ab",
   "metadata": {
    "tags": []
   },
   "outputs": [],
   "source": [
    "m.move_to(x=34.98, y=273.64)"
   ]
  },
  {
   "cell_type": "code",
   "execution_count": null,
   "id": "be4318df-c6d4-46de-a065-f7b905f9a267",
   "metadata": {
    "tags": []
   },
   "outputs": [],
   "source": [
    "m.pickup_tool(pipette)"
   ]
  },
  {
   "cell_type": "code",
   "execution_count": null,
   "id": "56d2faf5-4aaa-47ad-800a-926cc8305aa6",
   "metadata": {
    "tags": []
   },
   "outputs": [],
   "source": [
    "pipette.pickup_tip()"
   ]
  },
  {
   "cell_type": "code",
   "execution_count": null,
   "id": "db575011-f372-43f7-ab0e-18cad5b30769",
   "metadata": {
    "tags": []
   },
   "outputs": [],
   "source": [
    "pipette.drop_tip(well)"
   ]
  },
  {
   "cell_type": "code",
   "execution_count": null,
   "id": "e8f28d20-19f3-424e-bbeb-1939e520ff8b",
   "metadata": {
    "tags": []
   },
   "outputs": [],
   "source": [
    "m.deck.safe_z"
   ]
  },
  {
   "cell_type": "code",
   "execution_count": null,
   "id": "b318ef81-6046-4235-ae9b-3001de02895c",
   "metadata": {
    "tags": []
   },
   "outputs": [],
   "source": [
    "# test transfer\n",
    "source_wells = deck.load_labware('scienfocus_6_wellplate_15900ul', 0)"
   ]
  },
  {
   "cell_type": "code",
   "execution_count": null,
   "id": "7dd653dc-7823-422a-b836-762324618808",
   "metadata": {
    "tags": []
   },
   "outputs": [],
   "source": [
    "water = source_wells[\"A1\"]"
   ]
  },
  {
   "cell_type": "code",
   "execution_count": null,
   "id": "3140975f-cdde-4be7-9de4-164542b3a8a3",
   "metadata": {
    "tags": []
   },
   "outputs": [],
   "source": [
    "source"
   ]
  },
  {
   "cell_type": "code",
   "execution_count": null,
   "id": "d857c516-de83-433f-84b0-00658137ea84",
   "metadata": {
    "tags": []
   },
   "outputs": [],
   "source": [
    "m.move_to(x=source.x, y=source.y)"
   ]
  },
  {
   "cell_type": "code",
   "execution_count": null,
   "id": "3ef74e5f-2698-4e75-a330-84b0ee4309f0",
   "metadata": {
    "tags": []
   },
   "outputs": [],
   "source": [
    "destination_wells = deck.load_labware('corning_96_wellplate_360ul_flat', 1)"
   ]
  },
  {
   "cell_type": "code",
   "execution_count": null,
   "id": "f6bc74b1-ed46-434c-9397-55d2bff1bae1",
   "metadata": {
    "tags": []
   },
   "outputs": [],
   "source": [
    "dest = destination_wells[\"A1\"]"
   ]
  },
  {
   "cell_type": "code",
   "execution_count": null,
   "id": "4e5e5644-65ec-499e-b667-d53e060a7856",
   "metadata": {
    "tags": []
   },
   "outputs": [],
   "source": [
    "m.move_to(x=dest.x, y=dest.y)"
   ]
  },
  {
   "cell_type": "code",
   "execution_count": null,
   "id": "6fcc6275-e267-437d-831d-ae6e6e2c564c",
   "metadata": {
    "tags": []
   },
   "outputs": [],
   "source": [
    "dest"
   ]
  },
  {
   "cell_type": "code",
   "execution_count": null,
   "id": "09216964-be45-4fd3-88ca-d83d8dc6c1d7",
   "metadata": {
    "tags": []
   },
   "outputs": [],
   "source": [
    "pipette.transfer(vol=100, source_well=source, destination_well=dest, blowout=True, mix_after=(50,3))"
   ]
  },
  {
   "cell_type": "code",
   "execution_count": null,
   "id": "8472c056-9aee-4b1a-bd1b-1e2d7e5e9cdb",
   "metadata": {
    "tags": []
   },
   "outputs": [],
   "source": [
    " mix_after=(50,3)m.deck.slots"
   ]
  },
  {
   "cell_type": "code",
   "execution_count": null,
   "id": "97cb16e4-e6bb-4030-9d10-bae1ab049a30",
   "metadata": {
    "tags": []
   },
   "outputs": [],
   "source": [
    "garbage = m.deck.slots_data"
   ]
  },
  {
   "cell_type": "code",
   "execution_count": null,
   "id": "ebbc7566-0aeb-4b77-8543-89ee994a79ec",
   "metadata": {
    "tags": []
   },
   "outputs": [],
   "source": [
    "t = (50,3)"
   ]
  },
  {
   "cell_type": "code",
   "execution_count": null,
   "id": "088edcd2-9446-40b1-b709-297ca6b80221",
   "metadata": {
    "tags": []
   },
   "outputs": [],
   "source": [
    "t[0]"
   ]
  },
  {
   "cell_type": "code",
   "execution_count": null,
   "id": "a9693dab-da1e-4266-813c-a1804e4bbc24",
   "metadata": {
    "tags": []
   },
   "outputs": [],
   "source": [
    "garbage['-1']['offset']"
   ]
  },
  {
   "cell_type": "code",
   "execution_count": null,
   "id": "1e2606a8-5e0b-4e9b-a336-429175951637",
   "metadata": {
    "tags": []
   },
   "outputs": [],
   "source": [
    "m.move_to(x=garbage['-1']['offset'][0], y=garbage['-1']['offset'][1])"
   ]
  },
  {
   "cell_type": "code",
   "execution_count": null,
   "id": "8badca10-910c-4b78-a221-1a45627f8651",
   "metadata": {
    "tags": []
   },
   "outputs": [],
   "source": [
    "m.deck.safe_z"
   ]
  },
  {
   "cell_type": "code",
   "execution_count": null,
   "id": "0c6e7fe3-e4b6-467c-8c6f-38069a387025",
   "metadata": {
    "tags": []
   },
   "outputs": [],
   "source": [
    "m.deck._safe_z = 60"
   ]
  },
  {
   "cell_type": "code",
   "execution_count": null,
   "id": "3b1d7d28-2adb-4c4e-92c8-a90e700e1a8a",
   "metadata": {
    "tags": []
   },
   "outputs": [],
   "source": [
    "dest = list(destination_wells.wells.values())"
   ]
  },
  {
   "cell_type": "code",
   "execution_count": null,
   "id": "2135a1a5-1beb-424a-b322-2060514fe1f0",
   "metadata": {
    "tags": []
   },
   "outputs": [],
   "source": [
    "# this and one above is to fill up well plate\n",
    "pipette.transfer(vol=100, source_well=source, destination_well=dest, blowout=True)"
   ]
  },
  {
   "cell_type": "code",
   "execution_count": null,
   "id": "c9050433-2c3f-4f52-845a-fa5edcffee4f",
   "metadata": {
    "tags": []
   },
   "outputs": [],
   "source": [
    "# now fill A1-12 with blue water\n",
    "blue = source_wells[\"A2\"]\n",
    "destination_row = destination_wells.get_column(1)\n",
    "print(destination_row)"
   ]
  },
  {
   "cell_type": "code",
   "execution_count": null,
   "id": "9d2aacd7-c761-4619-a9ca-b372c346c7c7",
   "metadata": {
    "tags": []
   },
   "outputs": [],
   "source": [
    "for d_well in destination_row:\n",
    "    pipette.transfer(vol=100, source_well=blue, destination_well=d_well, blowout=True, mix_after=(50,3))"
   ]
  },
  {
   "cell_type": "code",
   "execution_count": null,
   "id": "f8a3b8b9-dcb2-455f-a684-4fb90d9cfe5a",
   "metadata": {
    "tags": []
   },
   "outputs": [],
   "source": [
    "# now transfer down columns\n",
    "# destination_wells.row_data\n",
    "destination_wells.get_row('A')"
   ]
  },
  {
   "cell_type": "code",
   "execution_count": null,
   "id": "b6701102-d9d4-4ba3-9a01-9b5c6e6c1f79",
   "metadata": {
    "tags": []
   },
   "outputs": [],
   "source": [
    "pipette.dispense(100, source)"
   ]
  },
  {
   "cell_type": "code",
   "execution_count": null,
   "id": "d1f8e763-b40e-4f98-bbe1-4c953871ce13",
   "metadata": {
    "tags": []
   },
   "outputs": [],
   "source": [
    "source_wells[\"A1\"]"
   ]
  },
  {
   "cell_type": "code",
   "execution_count": null,
   "id": "5577abef-0bba-4ccb-bce4-7054f4ca098b",
   "metadata": {},
   "outputs": [],
   "source": []
  },
  {
   "cell_type": "code",
   "execution_count": null,
   "id": "2208ecc2-2dc9-4648-9200-9dcdacb5cf32",
   "metadata": {
    "tags": []
   },
   "outputs": [],
   "source": []
  },
  {
   "cell_type": "code",
   "execution_count": null,
   "id": "af822f6e-7495-4de8-958f-616192bfdbf9",
   "metadata": {},
   "outputs": [],
   "source": []
  }
 ],
 "metadata": {
  "kernelspec": {
   "display_name": "science_jubilee_dev",
   "language": "python",
   "name": "science_jubilee_dev"
  },
  "language_info": {
   "codemirror_mode": {
    "name": "ipython",
    "version": 3
   },
   "file_extension": ".py",
   "mimetype": "text/x-python",
   "name": "python",
   "nbconvert_exporter": "python",
   "pygments_lexer": "ipython3",
   "version": "3.7.3"
  }
 },
 "nbformat": 4,
 "nbformat_minor": 5
}
