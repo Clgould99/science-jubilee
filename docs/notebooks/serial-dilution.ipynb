{
 "cells": [
  {
   "cell_type": "code",
   "execution_count": 1,
   "id": "68635a40-368a-46ee-b671-56de60448608",
   "metadata": {
    "tags": []
   },
   "outputs": [],
   "source": [
    "# Relevant imports\n",
    "from science_jubilee.Machine import Machine\n",
    "from science_jubilee.decks.Deck import Deck\n",
    "from science_jubilee.tools.Camera import Camera\n",
    "from science_jubilee.tools.Pipette import Pipette"
   ]
  },
  {
   "cell_type": "code",
   "execution_count": 2,
   "id": "fd3b1bb3-6137-44b7-90a5-d070fe3f6d0c",
   "metadata": {
    "tags": []
   },
   "outputs": [
    {
     "name": "stdout",
     "output_type": "stream",
     "text": [
      "Warning: disconnecting this application from the network will halt connection to Jubilee.\n"
     ]
    }
   ],
   "source": [
    "# connect to the machine and add a deck\n",
    "m = Machine(address=\"jubilee.local\")\n",
    "deck = m.load_deck('lab_automation_deck_MAfeb')"
   ]
  },
  {
   "cell_type": "code",
   "execution_count": 3,
   "id": "2b67e668-f055-4bfe-bd2a-38881828cb0f",
   "metadata": {
    "tags": []
   },
   "outputs": [],
   "source": [
    "# load tools for this workflow\n",
    "pipette = Pipette.from_config(1, 'ot', 'P300_config.json')\n",
    "camera = Camera(3, 'cam')\n",
    "\n",
    "m.load_tool(pipette)\n",
    "m.load_tool(camera)"
   ]
  },
  {
   "cell_type": "code",
   "execution_count": 4,
   "id": "1142091d-4aea-4195-a53a-7cc3aabf20b2",
   "metadata": {
    "tags": []
   },
   "outputs": [],
   "source": [
    "# add labware\n",
    "tip_rack = deck.load_labware('opentrons_96_tiprack_300ul', 4)\n",
    "pipette.add_tiprack(tip_rack)\n",
    "\n",
    "source_wells = deck.load_labware('scienfocus_6_wellplate_15900ul', 0)\n",
    "destination_wells = deck.load_labware('corning_96_wellplate_360ul_flat', 1)"
   ]
  },
  {
   "cell_type": "code",
   "execution_count": 5,
   "id": "d7ee992a-91dd-4022-953e-44ba05228112",
   "metadata": {
    "tags": []
   },
   "outputs": [],
   "source": [
    "# pickup the pipette\n",
    "m.pickup_tool(pipette)"
   ]
  },
  {
   "cell_type": "code",
   "execution_count": 6,
   "id": "936b0c8d-8a63-4ed1-997d-82145d9e3f26",
   "metadata": {
    "tags": []
   },
   "outputs": [],
   "source": [
    "# equip pipette with a fresh tip\n",
    "pipette.pickup_tip()"
   ]
  },
  {
   "cell_type": "code",
   "execution_count": 7,
   "id": "69daf671-aed1-497b-ba2c-4b4b042ccd2e",
   "metadata": {
    "tags": []
   },
   "outputs": [],
   "source": [
    "# add 50uL of water to every well\n",
    "water = source_wells[\"A1\"]\n",
    "all_wells = list(destination_wells.wells.values())\n",
    "m.deck._safe_z = 20 ## manually lower for speed\n",
    "\n",
    "pipette.transfer(vol=50, source_well=water, destination_well=all_wells, blowout=True)"
   ]
  },
  {
   "cell_type": "code",
   "execution_count": 8,
   "id": "aba1ae68-0f44-463b-8bdf-d35a9b38f134",
   "metadata": {
    "tags": []
   },
   "outputs": [],
   "source": [
    "# add 100ul of red to row A\n",
    "red = source_wells[\"A2\"]\n",
    "row_a = destination_wells.get_row('A')\n",
    "for d_well in row_a:\n",
    "    pipette.transfer(vol=100, source_well=red, destination_well=d_well, blowout=True, mix_after=(50,3))"
   ]
  },
  {
   "cell_type": "code",
   "execution_count": null,
   "id": "21f5eece-af56-49d0-93bd-b2a97c9df717",
   "metadata": {
    "tags": []
   },
   "outputs": [],
   "source": [
    "# Move 100uL from the first well in the column to the next & mix, and so on\n",
    "m.deck._safe_z = 15 # manually lower for speed\n",
    "row_count = len(destination_wells.row_data)\n",
    "for column_id in destination_wells.column_data:\n",
    "    col = destination_wells.column_data[column_id]\n",
    "    for num, well in enumerate(col):\n",
    "        if num + 1 < row_count: # if there is another well to move to\n",
    "            next_well = col[num+1]\n",
    "            pipette.transfer(vol=100, source_well=well, destination_well=next_well, blowout=True, mix_after=(50,3))\n",
    "\n",
    "m.deck._safe_z = 60"
   ]
  },
  {
   "cell_type": "code",
   "execution_count": 14,
   "id": "ba86f940-b5fb-49c4-ac23-9c738a5b9802",
   "metadata": {
    "tags": []
   },
   "outputs": [],
   "source": [
    "# dispose tip\n",
    "garbage = m.deck.slots_data['-1'][\"offset\"]\n",
    "garbage = (garbage[0], garbage[1], 10)"
   ]
  },
  {
   "cell_type": "code",
   "execution_count": 11,
   "id": "4e0f1e6a-af4f-4957-b9ff-7c733df23f9e",
   "metadata": {
    "tags": []
   },
   "outputs": [],
   "source": [
    "pipette.drop_tip(garbage)"
   ]
  },
  {
   "cell_type": "code",
   "execution_count": 12,
   "id": "5b218817-52f7-450c-b1e6-143088916838",
   "metadata": {
    "tags": []
   },
   "outputs": [],
   "source": []
  },
  {
   "cell_type": "code",
   "execution_count": 18,
   "id": "52cf454f-c9f5-4351-83c5-7244747ce412",
   "metadata": {
    "tags": []
   },
   "outputs": [],
   "source": [
    "# misc\n",
    "m.deck._safe_z = 65"
   ]
  },
  {
   "cell_type": "code",
   "execution_count": 19,
   "id": "62824def-9fe4-40ff-af43-f391ac59384c",
   "metadata": {},
   "outputs": [],
   "source": [
    "m.move_to(z=100)"
   ]
  },
  {
   "cell_type": "code",
   "execution_count": null,
   "id": "71b8f992-f04b-4720-bd93-252d16a97c61",
   "metadata": {
    "tags": []
   },
   "outputs": [],
   "source": [
    "m.pickup_tool(camera)"
   ]
  },
  {
   "cell_type": "code",
   "execution_count": null,
   "id": "88369f85-af19-4c15-b453-2f7a524de0a2",
   "metadata": {
    "tags": []
   },
   "outputs": [],
   "source": []
  },
  {
   "cell_type": "code",
   "execution_count": 13,
   "id": "1f3650a5-3d60-47b5-8cdd-01d32ec0beb0",
   "metadata": {
    "tags": []
   },
   "outputs": [],
   "source": []
  },
  {
   "cell_type": "code",
   "execution_count": null,
   "id": "abe9552c-c694-469e-8edc-d59415c4a305",
   "metadata": {},
   "outputs": [],
   "source": []
  }
 ],
 "metadata": {
  "kernelspec": {
   "display_name": "science_jubilee_dev",
   "language": "python",
   "name": "science_jubilee_dev"
  },
  "language_info": {
   "codemirror_mode": {
    "name": "ipython",
    "version": 3
   },
   "file_extension": ".py",
   "mimetype": "text/x-python",
   "name": "python",
   "nbconvert_exporter": "python",
   "pygments_lexer": "ipython3",
   "version": "3.7.3"
  }
 },
 "nbformat": 4,
 "nbformat_minor": 5
}
