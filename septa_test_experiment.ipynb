{
 "cells": [
  {
   "cell_type": "code",
   "execution_count": 1,
   "id": "b656762c-1ca9-4f9c-9ba6-86a3f7190265",
   "metadata": {},
   "outputs": [],
   "source": [
    "%load_ext autoreload\n",
    "\n",
    "%autoreload 2"
   ]
  },
  {
   "cell_type": "code",
   "execution_count": 12,
   "id": "1127740c-7620-447b-8204-741dfc8fe3cc",
   "metadata": {},
   "outputs": [],
   "source": [
    "import requests\n",
    "\n",
    "# ----------- Science Jubilee -------------\n",
    "from science_jubilee import Machine as Jub\n",
    "from science_jubilee.tools import HTTPSyringe as syringe\n",
    "from science_jubilee.tools import Pipette\n",
    "import time\n"
   ]
  },
  {
   "cell_type": "code",
   "execution_count": 3,
   "id": "8228ca74-92e4-4761-b4ef-ef0c50fe7381",
   "metadata": {},
   "outputs": [],
   "source": [
    "jubilee = Jub.Machine(address='192.168.1.2', simulated = False) "
   ]
  },
  {
   "cell_type": "code",
   "execution_count": 7,
   "id": "c3d3bf61-1aed-476b-b36c-e2c5891f4986",
   "metadata": {},
   "outputs": [],
   "source": [
    "jubilee.home_all()"
   ]
  },
  {
   "cell_type": "code",
   "execution_count": 4,
   "id": "30f0c9b9-98da-46f9-945c-34607d3abaf5",
   "metadata": {},
   "outputs": [],
   "source": [
    "deck = jubilee.load_deck('lab_automation_deck.json')"
   ]
  },
  {
   "cell_type": "markdown",
   "id": "9b3f6a03-ceb8-4e92-8018-5f451dec546d",
   "metadata": {},
   "source": [
    "# load a well plate "
   ]
  },
  {
   "cell_type": "code",
   "execution_count": 5,
   "id": "76695d63-a431-4f0c-b3ef-4f7d7a4dd976",
   "metadata": {},
   "outputs": [
    {
     "name": "stdout",
     "output_type": "stream",
     "text": [
      "New manual offset applied to falcon_48_wellplate_1500ul\n"
     ]
    }
   ],
   "source": [
    "samples = jubilee.load_labware('falcon_48_wellplate_1500ul.json', 0)\n",
    "samples.manual_offset([(21.4, 82.9), (134.1, 83.2), (133.9, 12.8)])\n",
    "\n",
    "\n",
    "# -------------- Labware ------------------\n",
    "tiprack = jubilee.load_labware('opentrons_96_tiprack_300ul.json', 2)\n",
    "#tiprack.load_manualOffset()\n",
    "stocks = jubilee.load_labware('20mlscintillation_12_wellplate_18000ul.json', 3)\n",
    "trash = jubilee.load_labware('agilent_1_reservoir_290ml.json', 1)"
   ]
  },
  {
   "cell_type": "code",
   "execution_count": 6,
   "id": "fdab5a24-cc2a-4ea2-a545-c841c5ef2334",
   "metadata": {},
   "outputs": [
    {
     "name": "stdout",
     "output_type": "stream",
     "text": [
      "New manual offset applied to opentrons_96_tiprack_300ul\n"
     ]
    }
   ],
   "source": [
    "UL = (28.4, 175.5)\n",
    "UR = (126.8, 175.0)\n",
    "BR = (127.3, 112.5)\n",
    "tiprack.manual_offset((UL, UR, BR))"
   ]
  },
  {
   "cell_type": "code",
   "execution_count": 7,
   "id": "8378fc8c-b57c-4f31-8acd-f681403444cc",
   "metadata": {},
   "outputs": [],
   "source": [
    "syringe_10 = syringe.HTTPSyringe.from_config(3, \"src/science_jubilee/tools/configs/10cc_syringe.json\")"
   ]
  },
  {
   "cell_type": "code",
   "execution_count": 8,
   "id": "803089bb-35b7-4590-925c-220f86a98827",
   "metadata": {},
   "outputs": [],
   "source": [
    "syringe_1 = syringe.HTTPSyringe.from_config(2, \"src/science_jubilee/tools/configs/1cc_syringe.json\")"
   ]
  },
  {
   "cell_type": "code",
   "execution_count": 9,
   "id": "cdf950ad-b31f-4af7-883f-28ed9be7ebe0",
   "metadata": {},
   "outputs": [],
   "source": [
    "jubilee.load_tool(syringe_10)\n",
    "jubilee.load_tool(syringe_1)"
   ]
  },
  {
   "cell_type": "code",
   "execution_count": 10,
   "id": "6437e211-ddd5-4fba-a1f4-804a5ec805d9",
   "metadata": {},
   "outputs": [
    {
     "name": "stdout",
     "output_type": "stream",
     "text": [
      "Loaded syringe, remaining volume 560 uL\n"
     ]
    }
   ],
   "source": [
    "syringe_1.set_pulsewidth(1500)\n",
    "syringe_1.load_syringe(560, 1500)"
   ]
  },
  {
   "cell_type": "code",
   "execution_count": 13,
   "id": "bd28c5e6-215e-477c-b838-4f4b476e2365",
   "metadata": {},
   "outputs": [],
   "source": [
    "# load pipette\n",
    "P300 = Pipette.Pipette.from_config(1, 'Pipette', 'P300_config.json')\n",
    "jubilee.load_tool(P300)\n",
    "\n",
    "P300.add_tiprack(tiprack)\n",
    "P300.trash = trash[0]"
   ]
  },
  {
   "cell_type": "code",
   "execution_count": null,
   "id": "dcdc7846-488d-4f2f-8de5-97b593cffa77",
   "metadata": {},
   "outputs": [],
   "source": []
  },
  {
   "cell_type": "markdown",
   "id": "618cbed0-c674-4f4e-9148-8d0498db7621",
   "metadata": {},
   "source": [
    "## Check P300 dispense"
   ]
  },
  {
   "cell_type": "code",
   "execution_count": 14,
   "id": "b260a734-67b5-441c-a882-1fb2190bcaa1",
   "metadata": {},
   "outputs": [],
   "source": [
    "vol = 100"
   ]
  },
  {
   "cell_type": "code",
   "execution_count": 16,
   "id": "a886fcf4-a145-4daa-b152-241fbedc68b8",
   "metadata": {},
   "outputs": [],
   "source": [
    "jubilee.pickup_tool(P300)"
   ]
  },
  {
   "cell_type": "code",
   "execution_count": 17,
   "id": "d22ab2f4-873c-47ea-a794-fd258a40f6d7",
   "metadata": {},
   "outputs": [],
   "source": [
    "drop_location = samples[8].bottom(+20)"
   ]
  },
  {
   "cell_type": "code",
   "execution_count": 18,
   "id": "89dfa336-1349-43d3-b018-e6feda31a836",
   "metadata": {},
   "outputs": [],
   "source": [
    "P300.transfer(vol, stocks[0], drop_location, new_tip = 'always')"
   ]
  },
  {
   "cell_type": "code",
   "execution_count": 25,
   "id": "eef9bb33-382c-414c-8fe6-b208f6b45ef3",
   "metadata": {},
   "outputs": [],
   "source": [
    "jubilee.park_tool()"
   ]
  },
  {
   "cell_type": "markdown",
   "id": "a9eb6f32-9d18-43c1-b888-ddde0cf83608",
   "metadata": {},
   "source": [
    "## Check syringe dispense "
   ]
  },
  {
   "cell_type": "code",
   "execution_count": 21,
   "id": "aef8ca71-9405-4fdb-9471-289ed4347f67",
   "metadata": {},
   "outputs": [],
   "source": [
    "jubilee.pickup_tool(syringe_1)"
   ]
  },
  {
   "cell_type": "code",
   "execution_count": 22,
   "id": "4febab10-2592-4ffa-8435-79944923c1f8",
   "metadata": {},
   "outputs": [],
   "source": [
    "syringe_1.dispense(vol, drop_location)"
   ]
  },
  {
   "cell_type": "code",
   "execution_count": 24,
   "id": "00aa6177-52a0-483c-9b7f-156044d59a4e",
   "metadata": {},
   "outputs": [],
   "source": [
    "jubilee.move(dz = 50)"
   ]
  },
  {
   "cell_type": "code",
   "execution_count": null,
   "id": "d060c6b6-c93e-42ac-b4d3-9270b8b224c1",
   "metadata": {},
   "outputs": [],
   "source": [
    "jubilee.pickup(P300)\n",
    "P300.pickuptip\n",
    "for i in range(5)"
   ]
  }
 ],
 "metadata": {
  "kernelspec": {
   "display_name": "Python 3 (ipykernel)",
   "language": "python",
   "name": "python3"
  },
  "language_info": {
   "codemirror_mode": {
    "name": "ipython",
    "version": 3
   },
   "file_extension": ".py",
   "mimetype": "text/x-python",
   "name": "python",
   "nbconvert_exporter": "python",
   "pygments_lexer": "ipython3",
   "version": "3.9.19"
  }
 },
 "nbformat": 4,
 "nbformat_minor": 5
}
