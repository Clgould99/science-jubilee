{
 "cells": [
  {
   "cell_type": "code",
   "execution_count": 1,
   "id": "b656762c-1ca9-4f9c-9ba6-86a3f7190265",
   "metadata": {},
   "outputs": [],
   "source": [
    "%load_ext autoreload\n",
    "\n",
    "%autoreload 2"
   ]
  },
  {
   "cell_type": "code",
   "execution_count": 2,
   "id": "1127740c-7620-447b-8204-741dfc8fe3cc",
   "metadata": {},
   "outputs": [],
   "source": [
    "import requests\n",
    "\n",
    "# ----------- Science Jubilee -------------\n",
    "from science_jubilee import Machine as Jub\n",
    "from science_jubilee.tools import HTTPSyringe as syringe\n",
    "import time\n"
   ]
  },
  {
   "cell_type": "code",
   "execution_count": 5,
   "id": "64788e2b-4060-4b44-8c87-cf6a880ad318",
   "metadata": {},
   "outputs": [],
   "source": [
    "url = 'http://192.168.1.5:5000'\n",
    "volume = {'volume':5}"
   ]
  },
  {
   "cell_type": "code",
   "execution_count": 6,
   "id": "d1be2c94-8669-4bea-b057-a4a3acf035fd",
   "metadata": {},
   "outputs": [],
   "source": [
    "r = requests.post(url + '/get_status', json = {'name':'10cc'})"
   ]
  },
  {
   "cell_type": "code",
   "execution_count": 7,
   "id": "bfd36a85-fdfa-47d3-9899-b1193f0c24a7",
   "metadata": {},
   "outputs": [
    {
     "data": {
      "text/plain": [
       "b'{\"remaining_volume\":null,\"syringe_loaded\":false}\\n'"
      ]
     },
     "execution_count": 7,
     "metadata": {},
     "output_type": "execute_result"
    }
   ],
   "source": [
    "r.content"
   ]
  },
  {
   "cell_type": "code",
   "execution_count": 8,
   "id": "8228ca74-92e4-4761-b4ef-ef0c50fe7381",
   "metadata": {},
   "outputs": [],
   "source": [
    "jubilee = Jub.Machine(address='192.168.1.2', simulated = False) "
   ]
  },
  {
   "cell_type": "code",
   "execution_count": 80,
   "id": "c3d3bf61-1aed-476b-b36c-e2c5891f4986",
   "metadata": {},
   "outputs": [],
   "source": [
    "jubilee.home_all()"
   ]
  },
  {
   "cell_type": "code",
   "execution_count": 9,
   "id": "30f0c9b9-98da-46f9-945c-34607d3abaf5",
   "metadata": {},
   "outputs": [],
   "source": [
    "deck = jubilee.load_deck('lab_automation_deck.json')"
   ]
  },
  {
   "cell_type": "markdown",
   "id": "9b3f6a03-ceb8-4e92-8018-5f451dec546d",
   "metadata": {},
   "source": [
    "# load a well plate "
   ]
  },
  {
   "cell_type": "code",
   "execution_count": 10,
   "id": "76695d63-a431-4f0c-b3ef-4f7d7a4dd976",
   "metadata": {},
   "outputs": [
    {
     "name": "stdout",
     "output_type": "stream",
     "text": [
      "New manual offset applied to falcon_48_wellplate_1500ul\n"
     ]
    }
   ],
   "source": [
    "samples = jubilee.load_labware('falcon_48_wellplate_1500ul.json', 0)\n",
    "samples.manual_offset([(21.4, 82.9), (134.1, 83.2), (133.9, 12.8)])"
   ]
  },
  {
   "cell_type": "code",
   "execution_count": 11,
   "id": "ddb61ae3-feaf-4c6d-a7eb-1ad8abe41454",
   "metadata": {},
   "outputs": [],
   "source": [
    "stocks = jubilee.load_labware('20mlscintillation_12_wellplate_18000ul.json', 3)\n",
    "#stocks.manual_offset()"
   ]
  },
  {
   "cell_type": "code",
   "execution_count": 12,
   "id": "8378fc8c-b57c-4f31-8acd-f681403444cc",
   "metadata": {},
   "outputs": [],
   "source": [
    "syringe_10 = syringe.HTTPSyringe.from_config(3, \"/home/brendenpelkie/Code/science-jubilee/src/science_jubilee/tools/configs/10cc_syringe.json\")"
   ]
  },
  {
   "cell_type": "code",
   "execution_count": 21,
   "id": "803089bb-35b7-4590-925c-220f86a98827",
   "metadata": {},
   "outputs": [],
   "source": [
    "syringe_1 = syringe.HTTPSyringe.from_config(2, \"/home/brendenpelkie/Code/science-jubilee/src/science_jubilee/tools/configs/1cc_syringe.json\")"
   ]
  },
  {
   "cell_type": "code",
   "execution_count": 25,
   "id": "cdf950ad-b31f-4af7-883f-28ed9be7ebe0",
   "metadata": {},
   "outputs": [],
   "source": [
    "jubilee.load_tool(syringe_10)\n",
    "jubilee.load_tool(syringe_1)"
   ]
  },
  {
   "cell_type": "code",
   "execution_count": 15,
   "id": "4febab10-2592-4ffa-8435-79944923c1f8",
   "metadata": {},
   "outputs": [
    {
     "data": {
      "text/plain": [
       "{'remaining_volume': None, 'syringe_loaded': False}"
      ]
     },
     "execution_count": 15,
     "metadata": {},
     "output_type": "execute_result"
    }
   ],
   "source": [
    "syringe_1.status()"
   ]
  },
  {
   "cell_type": "code",
   "execution_count": 16,
   "id": "586398ab-1ba1-4521-9257-e0a59108df0d",
   "metadata": {},
   "outputs": [
    {
     "data": {
      "text/plain": [
       "'1cc'"
      ]
     },
     "execution_count": 16,
     "metadata": {},
     "output_type": "execute_result"
    }
   ],
   "source": [
    "syringe_1.name"
   ]
  },
  {
   "cell_type": "code",
   "execution_count": 17,
   "id": "df8d2f4e-b37a-4fe5-a2a1-2aa871dcfcea",
   "metadata": {},
   "outputs": [],
   "source": [
    "syringe_1.set_pulsewidth(1500)"
   ]
  },
  {
   "cell_type": "code",
   "execution_count": 18,
   "id": "cc8a3f25-f2de-4440-91ff-ab139923bc64",
   "metadata": {},
   "outputs": [
    {
     "name": "stdout",
     "output_type": "stream",
     "text": [
      "Loaded syringe, remaining volume 560 uL\n"
     ]
    }
   ],
   "source": [
    "syringe_1.load_syringe(560, 1500)"
   ]
  },
  {
   "cell_type": "code",
   "execution_count": 79,
   "id": "abf10a23-7f03-4340-80a1-8682b7726ff4",
   "metadata": {},
   "outputs": [],
   "source": [
    "jubilee.park_tool()"
   ]
  },
  {
   "cell_type": "code",
   "execution_count": 78,
   "id": "7e642d60-0d64-476a-98d1-7d5e50786c9f",
   "metadata": {},
   "outputs": [],
   "source": [
    "jubilee.pickup_tool(syringe_1)"
   ]
  },
  {
   "cell_type": "markdown",
   "id": "780dab33-4b61-4d6f-b0e7-50e51fe4d79a",
   "metadata": {},
   "source": [
    "## Manual syringe load:"
   ]
  },
  {
   "cell_type": "code",
   "execution_count": 77,
   "id": "a9791e7c-fc23-48dc-a77b-0743bead2bcd",
   "metadata": {},
   "outputs": [],
   "source": [
    "syringe_1.set_pulsewidth(syringe_1.empty_position-1)"
   ]
  },
  {
   "cell_type": "code",
   "execution_count": 73,
   "id": "c9a07015-1ba3-46e7-b649-375d9c0d1cd4",
   "metadata": {},
   "outputs": [],
   "source": [
    "aspirate = samples[0].bottom(+200)\n",
    "aspirate_vol = 995 - syringe_1.remaining_volume\n",
    "#aspirate_vol = 9995\n",
    "syringe_1.aspirate(aspirate_vol, aspirate)"
   ]
  },
  {
   "cell_type": "code",
   "execution_count": 74,
   "id": "0a969881-81f4-4fd2-9853-787a5f7af82a",
   "metadata": {},
   "outputs": [],
   "source": [
    "syringe_1.set_pulsewidth(1280)"
   ]
  },
  {
   "cell_type": "code",
   "execution_count": 75,
   "id": "5b057cac-d29f-465e-85bd-bd67674f8581",
   "metadata": {},
   "outputs": [],
   "source": [
    "## Run dispense experiment "
   ]
  },
  {
   "cell_type": "code",
   "execution_count": 76,
   "id": "384dddd4-8986-4472-8a36-62af9542644e",
   "metadata": {},
   "outputs": [],
   "source": [
    "# time step sequence:\n",
    "\"\"\"\n",
    "3 samples per each:\n",
    "- 1\n",
    "- 10\n",
    "- 50\n",
    "- 100\n",
    "- 200\n",
    "- 300\n",
    "\"\"\"\n",
    "\n",
    "#### Modify here\n",
    "test_step = 100\n",
    "\n",
    "######Don't touch here ######\n",
    "syringe_1.set_pulsewidth(1300)\n",
    "syringe_pulsewidth = 1300\n",
    "\n",
    "jubilee.pickup_tool(syringe_1)\n",
    "for i in range(1):\n",
    "    dispense_location = samples[i].bottom(+55)\n",
    "    new_pulsewidth = syringe_pulsewidth + test_step\n",
    "    syringe_pulsewidth = new_pulsewidth\n",
    "\n",
    "    jubilee.move_to(x = dispense_location.point[0], y = dispense_location.point[1], wait = True)\n",
    "    jubilee.move_to(z = dispense_location.point[2], wait = True)\n",
    "    syringe_1.set_pulsewidth(new_pulsewidth)\n",
    "    time.sleep(10)\n"
   ]
  },
  {
   "cell_type": "code",
   "execution_count": 28,
   "id": "da2dab5b-559b-4292-b9b4-1fa712627b93",
   "metadata": {},
   "outputs": [
    {
     "data": {
      "text/plain": [
       "(176.41, 170.79, 67.5)"
      ]
     },
     "execution_count": 28,
     "metadata": {},
     "output_type": "execute_result"
    }
   ],
   "source": [
    "dispense_location.point"
   ]
  },
  {
   "cell_type": "code",
   "execution_count": null,
   "id": "eeb72787-3a2d-4892-950d-d0002fbe3ac7",
   "metadata": {},
   "outputs": [],
   "source": []
  }
 ],
 "metadata": {
  "kernelspec": {
   "display_name": "Python 3 (ipykernel)",
   "language": "python",
   "name": "python3"
  },
  "language_info": {
   "codemirror_mode": {
    "name": "ipython",
    "version": 3
   },
   "file_extension": ".py",
   "mimetype": "text/x-python",
   "name": "python",
   "nbconvert_exporter": "python",
   "pygments_lexer": "ipython3",
   "version": "3.9.18"
  }
 },
 "nbformat": 4,
 "nbformat_minor": 5
}
