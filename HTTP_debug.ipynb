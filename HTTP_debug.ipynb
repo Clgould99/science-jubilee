{
 "cells": [
  {
   "cell_type": "code",
   "execution_count": 1,
   "id": "c08001d7-7e69-4435-a26b-dad40fa6278b",
   "metadata": {},
   "outputs": [],
   "source": [
    "\n",
    "\n",
    "%load_ext autoreload\n",
    "%autoreload 2\n"
   ]
  },
  {
   "cell_type": "code",
   "execution_count": 2,
   "id": "7b79016e-5203-459a-8cc4-6a548c36689c",
   "metadata": {},
   "outputs": [],
   "source": [
    "import requests\n",
    "import time"
   ]
  },
  {
   "cell_type": "code",
   "execution_count": 3,
   "id": "bb0d95d9-8d8e-4cc8-9504-b84971d3bdd9",
   "metadata": {},
   "outputs": [],
   "source": [
    "import logging\n",
    "import contextlib\n",
    "from http.client import HTTPConnection\n",
    "\n",
    "def debug_requests_on():\n",
    "    '''Switches on logging of the requests module.'''\n",
    "    HTTPConnection.debuglevel = 1\n",
    "\n",
    "    logging.basicConfig(filename = 'requestslog.log', format = '%(asctime)s %(message)s')\n",
    "    logging.getLogger().setLevel(logging.DEBUG)\n",
    "    requests_log = logging.getLogger(\"requests.packages.urllib3\")\n",
    "    requests_log.setLevel(logging.DEBUG)\n",
    "    requests_log.propagate = True\n",
    "\n",
    "def debug_requests_off():\n",
    "    '''Switches off logging of the requests module, might be some side-effects'''\n",
    "    HTTPConnection.debuglevel = 0\n",
    "\n",
    "    root_logger = logging.getLogger()\n",
    "    root_logger.setLevel(logging.WARNING)\n",
    "    root_logger.handlers = []\n",
    "    requests_log = logging.getLogger(\"requests.packages.urllib3\")\n",
    "    requests_log.setLevel(logging.WARNING)\n",
    "    requests_log.propagate = False"
   ]
  },
  {
   "cell_type": "code",
   "execution_count": 4,
   "id": "ffd76ba0-e80d-402d-b7de-73765dd8fb88",
   "metadata": {},
   "outputs": [],
   "source": [
    "debug_requests_on()"
   ]
  },
  {
   "cell_type": "code",
   "execution_count": 4,
   "id": "6e065e90-1633-4ff8-be82-47ce0dde17ad",
   "metadata": {},
   "outputs": [],
   "source": [
    "## try current reqeust method\n",
    "jubilee_ip = '192.168.1.2'\n",
    "\n",
    "gcode_home = 'G28'\n"
   ]
  },
  {
   "cell_type": "code",
   "execution_count": null,
   "id": "bd8c8c3a-e776-4551-887c-15ebb69bcfd7",
   "metadata": {
    "scrolled": true
   },
   "outputs": [],
   "source": [
    "\n",
    "reponse = requests.post(\n",
    "                f\"http://{jubilee_ip}/machine/code\", data=f\"{gcode_home}\", timeout=5\n",
    "            )"
   ]
  },
  {
   "cell_type": "code",
   "execution_count": 9,
   "id": "6cdc83c2-a413-4624-a6bf-3df1cd43917b",
   "metadata": {},
   "outputs": [],
   "source": [
    "session = requests.session()\n",
    "session.keep_alive = False"
   ]
  },
  {
   "cell_type": "code",
   "execution_count": null,
   "id": "70448aab-42b9-4d55-8c3f-e8a46df9794f",
   "metadata": {},
   "outputs": [],
   "source": []
  },
  {
   "cell_type": "code",
   "execution_count": 10,
   "id": "dd3e1331-9dbe-40da-80bc-430e7fa7f6d7",
   "metadata": {},
   "outputs": [
    {
     "ename": "NameError",
     "evalue": "name 'jubilee_ip' is not defined",
     "output_type": "error",
     "traceback": [
      "\u001b[0;31m---------------------------------------------------------------------------\u001b[0m",
      "\u001b[0;31mNameError\u001b[0m                                 Traceback (most recent call last)",
      "Cell \u001b[0;32mIn[10], line 1\u001b[0m\n\u001b[0;32m----> 1\u001b[0m r \u001b[38;5;241m=\u001b[39m session\u001b[38;5;241m.\u001b[39mget(\u001b[38;5;124mf\u001b[39m\u001b[38;5;124m\"\u001b[39m\u001b[38;5;124mhttp://\u001b[39m\u001b[38;5;132;01m{\u001b[39;00mjubilee_ip\u001b[38;5;132;01m}\u001b[39;00m\u001b[38;5;124m/rr_model?key=seqs\u001b[39m\u001b[38;5;124m\"\u001b[39m)\n",
      "\u001b[0;31mNameError\u001b[0m: name 'jubilee_ip' is not defined"
     ]
    }
   ],
   "source": [
    "r = session.get(f\"http://{jubilee_ip}/rr_model?key=seqs\")"
   ]
  },
  {
   "cell_type": "code",
   "execution_count": 9,
   "id": "c86cdc2a-2dfa-4379-b000-e29765ffa1d2",
   "metadata": {},
   "outputs": [
    {
     "data": {
      "text/plain": [
       "200"
      ]
     },
     "execution_count": 9,
     "metadata": {},
     "output_type": "execute_result"
    }
   ],
   "source": [
    "r.status_code"
   ]
  },
  {
   "cell_type": "code",
   "execution_count": 15,
   "id": "78ddbcab-22d4-4de1-b4f7-5712f569210b",
   "metadata": {},
   "outputs": [
    {
     "name": "stdout",
     "output_type": "stream",
     "text": [
      "send: b'GET /rr_model?key=seqs HTTP/1.1\\r\\nHost: 192.168.1.2\\r\\nUser-Agent: python-requests/2.31.0\\r\\nAccept-Encoding: gzip, deflate, br\\r\\nAccept: */*\\r\\nConnection: keep-alive\\r\\n\\r\\n'\n",
      "reply: 'HTTP/1.1 200 OK\\r\\n'\n",
      "header: Cache-Control: no-cache, no-store, must-revalidate\n",
      "header: Pragma: no-cache\n",
      "header: Expires: 0\n",
      "header: Content-Type: application/json\n",
      "header: Content-Length: 243\n",
      "header: Connection: close\n"
     ]
    }
   ],
   "source": [
    "reply_response = session.get(\n",
    "                    f\"http://{jubilee_ip}/rr_model?key=seqs\"\n",
    "                )\n",
    "logging.debug(f'MODEL response, status: {reply_response.status_code}, headers:{reply_response.headers}, content:{reply_response.content}')\n",
    "\n",
    "reply_count = reply_response.json()[\"result\"][\"reply\"]"
   ]
  },
  {
   "cell_type": "code",
   "execution_count": 62,
   "id": "7ff38d19-ced0-49ff-aa05-6f7b53dcad11",
   "metadata": {},
   "outputs": [
    {
     "data": {
      "text/plain": [
       "16"
      ]
     },
     "execution_count": 62,
     "metadata": {},
     "output_type": "execute_result"
    }
   ],
   "source": [
    "reply_count"
   ]
  },
  {
   "cell_type": "code",
   "execution_count": 16,
   "id": "c356ee78-77a5-455d-a725-1c828d092275",
   "metadata": {},
   "outputs": [
    {
     "name": "stdout",
     "output_type": "stream",
     "text": [
      "send: b'GET /rr_gcode?gcode=G28 HTTP/1.1\\r\\nHost: 192.168.1.2\\r\\nUser-Agent: python-requests/2.31.0\\r\\nAccept-Encoding: gzip, deflate, br\\r\\nAccept: */*\\r\\nConnection: keep-alive\\r\\n\\r\\n'\n",
      "reply: 'HTTP/1.1 200 OK\\r\\n'\n",
      "header: Cache-Control: no-cache, no-store, must-revalidate\n",
      "header: Pragma: no-cache\n",
      "header: Expires: 0\n",
      "header: Content-Type: application/json\n",
      "header: Content-Length: 12\n",
      "header: Connection: close\n"
     ]
    }
   ],
   "source": [
    "buffer_response = session.get(\n",
    "                    f\"http://{jubilee_ip}/rr_gcode?gcode={gcode_home}\", timeout=30\n",
    "                )\n",
    "logging.debug(f'GCODE response, status: {buffer_response.status_code}, headers:{buffer_response.headers}, content:{buffer_response.content}')"
   ]
  },
  {
   "cell_type": "code",
   "execution_count": 7,
   "id": "5ba4c6ef-7cee-439b-a780-02ff397b69f9",
   "metadata": {},
   "outputs": [
    {
     "ename": "NameError",
     "evalue": "name 'buffer_response' is not defined",
     "output_type": "error",
     "traceback": [
      "\u001b[0;31m---------------------------------------------------------------------------\u001b[0m",
      "\u001b[0;31mNameError\u001b[0m                                 Traceback (most recent call last)",
      "Cell \u001b[0;32mIn[7], line 1\u001b[0m\n\u001b[0;32m----> 1\u001b[0m \u001b[43mbuffer_response\u001b[49m\n",
      "\u001b[0;31mNameError\u001b[0m: name 'buffer_response' is not defined"
     ]
    }
   ],
   "source": [
    "reply_r"
   ]
  },
  {
   "cell_type": "code",
   "execution_count": 12,
   "id": "ee300d84-12fb-4403-b57e-a2abfb7a4466",
   "metadata": {},
   "outputs": [],
   "source": [
    "def delay_time(n):\n",
    "    \"\"\"\n",
    "    Calculate delay time for next request. dumb hard code for now, could be fancy exponential backoff\n",
    "    \"\"\"\n",
    "    if n == 0:\n",
    "        return 0\n",
    "    if n < 10:\n",
    "        return 0.1\n",
    "    if n < 20:\n",
    "        return 0.2\n",
    "    if n < 30:\n",
    "        return 0.3\n",
    "    else:\n",
    "        return 1\n",
    "    "
   ]
  },
  {
   "cell_type": "code",
   "execution_count": 18,
   "id": "27551685-c0d1-453f-a562-aebf4c6e9aa5",
   "metadata": {},
   "outputs": [
    {
     "name": "stdout",
     "output_type": "stream",
     "text": [
      "send: b'GET /rr_model?key=seqs HTTP/1.1\\r\\nHost: 192.168.1.2\\r\\nUser-Agent: python-requests/2.31.0\\r\\nAccept-Encoding: gzip, deflate, br\\r\\nAccept: */*\\r\\nConnection: keep-alive\\r\\n\\r\\n'\n",
      "reply: 'HTTP/1.1 200 OK\\r\\n'\n",
      "header: Cache-Control: no-cache, no-store, must-revalidate\n",
      "header: Pragma: no-cache\n",
      "header: Expires: 0\n",
      "header: Content-Type: application/json\n",
      "header: Content-Length: 243\n",
      "header: Connection: close\n",
      "Response:  <Response [200]>\n",
      "send: b'GET /rr_reply HTTP/1.1\\r\\nHost: 192.168.1.2\\r\\nUser-Agent: python-requests/2.31.0\\r\\nAccept-Encoding: gzip, deflate, br\\r\\nAccept: */*\\r\\nConnection: keep-alive\\r\\n\\r\\n'\n",
      "reply: 'HTTP/1.1 200 OK\\r\\n'\n",
      "header: Cache-Control: no-cache, no-store, must-revalidate\n",
      "header: Pragma: no-cache\n",
      "header: Expires: 0\n",
      "header: Content-Type: text/plain\n",
      "header: Content-Length: 0\n",
      "header: Connection: close\n"
     ]
    }
   ],
   "source": [
    "tic = time.time()\n",
    "response_wait = 60\n",
    "\n",
    "try_count = 0\n",
    "while True:\n",
    "    try:\n",
    "        response = session.get(\n",
    "            f\"http://{jubilee_ip}/rr_model?key=seqs\"\n",
    "        )\n",
    "            logging.debug(f'MODEL response, status: {response.status_code}, headers:{response.headers}, content:{response.content}')\n",
    "        print('Response: ', response)\n",
    "        new_reply_count = response.json()[\"result\"][\"reply\"]\n",
    "        if new_reply_count != reply_count:\n",
    "            response = session.get(\n",
    "                f\"http://{jubilee_ip}/rr_reply\"\n",
    "            )\n",
    "            logging.debug(f'REPLY response, status: {response.status_code}, headers:{response.headers}, content:{response.content}')\n",
    "            response = response.text\n",
    "            break\n",
    "        elif time.time() - tic > response_wait:\n",
    "            response = None\n",
    "            break\n",
    "        print(f'Try count: {try_count}, delay time: {delay_time(try_count)} s')\n",
    "        time.sleep(delay_time(try_count))\n",
    "        try_count += 1\n",
    "    except Exception as e:\n",
    "        print(f\"Connection error {e}, sleeping 1 second\")\n",
    "        logging.debug(f'Error in gcode reply wait loop: {e}')\n",
    "        time.sleep(2)\n",
    "        continue"
   ]
  },
  {
   "cell_type": "code",
   "execution_count": 46,
   "id": "2ac91a82-c5b3-433e-89f6-d1d974f8b563",
   "metadata": {},
   "outputs": [
    {
     "data": {
      "text/plain": [
       "{'Cache-Control': 'no-cache, no-store, must-revalidate', 'Pragma': 'no-cache', 'Expires': '0', 'Content-Type': 'text/plain', 'Content-Length': '0', 'Connection': 'close'}"
      ]
     },
     "execution_count": 46,
     "metadata": {},
     "output_type": "execute_result"
    }
   ],
   "source": [
    "response.headers"
   ]
  },
  {
   "cell_type": "code",
   "execution_count": 44,
   "id": "6528c863-ef47-4c15-88c9-2e842451eabf",
   "metadata": {},
   "outputs": [
    {
     "name": "stdout",
     "output_type": "stream",
     "text": [
      "send: b'GET /rr_reply HTTP/1.1\\r\\nHost: 192.168.1.2\\r\\nUser-Agent: python-requests/2.31.0\\r\\nAccept-Encoding: gzip, deflate, br\\r\\nAccept: */*\\r\\nConnection: keep-alive\\r\\n\\r\\n'\n",
      "reply: 'HTTP/1.1 200 OK\\r\\n'\n",
      "header: Cache-Control: no-cache, no-store, must-revalidate\n",
      "header: Pragma: no-cache\n",
      "header: Expires: 0\n",
      "header: Content-Type: text/plain\n",
      "header: Content-Length: 0\n",
      "header: Connection: close\n"
     ]
    }
   ],
   "source": [
    "response = session.get(\n",
    "                                f\"http://{jubilee_ip}/rr_reply\"\n",
    "                            )"
   ]
  },
  {
   "cell_type": "code",
   "execution_count": 26,
   "id": "2d9daab1-c964-4faf-b715-1bfa71059c5d",
   "metadata": {},
   "outputs": [
    {
     "data": {
      "text/plain": [
       "''"
      ]
     },
     "execution_count": 26,
     "metadata": {},
     "output_type": "execute_result"
    }
   ],
   "source": [
    "response.text"
   ]
  },
  {
   "cell_type": "code",
   "execution_count": 15,
   "id": "6c0915a4-8b19-4bb8-98e7-05a619a6790a",
   "metadata": {},
   "outputs": [],
   "source": [
    "from science_jubilee import Machine"
   ]
  },
  {
   "cell_type": "code",
   "execution_count": 16,
   "id": "121dbac9-f913-4f95-844f-8e2c16daf574",
   "metadata": {},
   "outputs": [
    {
     "name": "stdout",
     "output_type": "stream",
     "text": [
      "send: b'POST /machine/code HTTP/1.1\\r\\nHost: 192.168.1.2\\r\\nUser-Agent: python-requests/2.31.0\\r\\nAccept-Encoding: gzip, deflate, br\\r\\nAccept: */*\\r\\nConnection: keep-alive\\r\\nContent-Length: 25\\r\\n\\r\\n'\n",
      "send: b'M409 K\"move.axes[].homed\"'\n",
      "reply: 'HTTP/1.1 500 only rr_upload is supported for POST requests\\r\\n'\n",
      "header: Connection: close\n",
      "send: b'GET /rr_model?key=seqs HTTP/1.1\\r\\nHost: 192.168.1.2\\r\\nUser-Agent: python-requests/2.31.0\\r\\nAccept-Encoding: gzip, deflate, br\\r\\nAccept: */*\\r\\nConnection: close\\r\\n\\r\\n'\n",
      "reply: 'HTTP/1.1 200 OK\\r\\n'\n",
      "header: Cache-Control: no-cache, no-store, must-revalidate\n",
      "header: Pragma: no-cache\n",
      "header: Expires: 0\n",
      "header: Content-Type: application/json\n",
      "header: Content-Length: 243\n",
      "header: Connection: close\n",
      "send: b'GET /rr_gcode?gcode=M409%20K%22move.axes%5B%5D.homed%22 HTTP/1.1\\r\\nHost: 192.168.1.2\\r\\nUser-Agent: python-requests/2.31.0\\r\\nAccept-Encoding: gzip, deflate, br\\r\\nAccept: */*\\r\\nConnection: close\\r\\n\\r\\n'\n",
      "reply: 'HTTP/1.1 200 OK\\r\\n'\n",
      "header: Cache-Control: no-cache, no-store, must-revalidate\n",
      "header: Pragma: no-cache\n",
      "header: Expires: 0\n",
      "header: Content-Type: application/json\n",
      "header: Content-Length: 12\n",
      "header: Connection: close\n",
      "send: b'GET /rr_model?key=seqs HTTP/1.1\\r\\nHost: 192.168.1.2\\r\\nUser-Agent: python-requests/2.31.0\\r\\nAccept-Encoding: gzip, deflate, br\\r\\nAccept: */*\\r\\nConnection: close\\r\\n\\r\\n'\n",
      "reply: 'HTTP/1.1 200 OK\\r\\n'\n",
      "header: Cache-Control: no-cache, no-store, must-revalidate\n",
      "header: Pragma: no-cache\n",
      "header: Expires: 0\n",
      "header: Content-Type: application/json\n",
      "header: Content-Length: 243\n",
      "header: Connection: close\n",
      "send: b'GET /rr_reply HTTP/1.1\\r\\nHost: 192.168.1.2\\r\\nUser-Agent: python-requests/2.31.0\\r\\nAccept-Encoding: gzip, deflate, br\\r\\nAccept: */*\\r\\nConnection: close\\r\\n\\r\\n'\n",
      "reply: 'HTTP/1.1 200 OK\\r\\n'\n",
      "header: Cache-Control: no-cache, no-store, must-revalidate\n",
      "header: Pragma: no-cache\n",
      "header: Expires: 0\n",
      "header: Content-Type: text/plain\n",
      "header: Content-Length: 84\n",
      "header: Connection: close\n",
      "send: b'POST /machine/code HTTP/1.1\\r\\nHost: 192.168.1.2\\r\\nUser-Agent: python-requests/2.31.0\\r\\nAccept-Encoding: gzip, deflate, br\\r\\nAccept: */*\\r\\nConnection: keep-alive\\r\\nContent-Length: 19\\r\\n\\r\\n'\n",
      "send: b'M409 K\"move.axes[]\"'\n",
      "reply: 'HTTP/1.1 500 only rr_upload is supported for POST requests\\r\\n'\n",
      "header: Connection: close\n",
      "send: b'GET /rr_model?key=seqs HTTP/1.1\\r\\nHost: 192.168.1.2\\r\\nUser-Agent: python-requests/2.31.0\\r\\nAccept-Encoding: gzip, deflate, br\\r\\nAccept: */*\\r\\nConnection: close\\r\\n\\r\\n'\n",
      "reply: 'HTTP/1.1 200 OK\\r\\n'\n",
      "header: Cache-Control: no-cache, no-store, must-revalidate\n",
      "header: Pragma: no-cache\n",
      "header: Expires: 0\n",
      "header: Content-Type: application/json\n",
      "header: Content-Length: 243\n",
      "header: Connection: close\n",
      "send: b'GET /rr_gcode?gcode=M409%20K%22move.axes%5B%5D%22 HTTP/1.1\\r\\nHost: 192.168.1.2\\r\\nUser-Agent: python-requests/2.31.0\\r\\nAccept-Encoding: gzip, deflate, br\\r\\nAccept: */*\\r\\nConnection: close\\r\\n\\r\\n'\n",
      "reply: 'HTTP/1.1 200 OK\\r\\n'\n",
      "header: Cache-Control: no-cache, no-store, must-revalidate\n",
      "header: Pragma: no-cache\n",
      "header: Expires: 0\n",
      "header: Content-Type: application/json\n",
      "header: Content-Length: 12\n",
      "header: Connection: close\n",
      "send: b'GET /rr_model?key=seqs HTTP/1.1\\r\\nHost: 192.168.1.2\\r\\nUser-Agent: python-requests/2.31.0\\r\\nAccept-Encoding: gzip, deflate, br\\r\\nAccept: */*\\r\\nConnection: close\\r\\n\\r\\n'\n",
      "reply: 'HTTP/1.1 200 OK\\r\\n'\n",
      "header: Cache-Control: no-cache, no-store, must-revalidate\n",
      "header: Pragma: no-cache\n",
      "header: Expires: 0\n",
      "header: Content-Type: application/json\n",
      "header: Content-Length: 243\n",
      "header: Connection: close\n",
      "send: b'GET /rr_reply HTTP/1.1\\r\\nHost: 192.168.1.2\\r\\nUser-Agent: python-requests/2.31.0\\r\\nAccept-Encoding: gzip, deflate, br\\r\\nAccept: */*\\r\\nConnection: close\\r\\n\\r\\n'\n",
      "reply: 'HTTP/1.1 200 OK\\r\\n'\n",
      "header: Cache-Control: no-cache, no-store, must-revalidate\n",
      "header: Pragma: no-cache\n",
      "header: Expires: 0\n",
      "header: Content-Type: text/plain\n",
      "header: Content-Length: 2044\n",
      "header: Connection: close\n",
      "send: b'POST /machine/code HTTP/1.1\\r\\nHost: 192.168.1.2\\r\\nUser-Agent: python-requests/2.31.0\\r\\nAccept-Encoding: gzip, deflate, br\\r\\nAccept: */*\\r\\nConnection: keep-alive\\r\\nContent-Length: 1\\r\\n\\r\\n'\n",
      "send: b'T'\n",
      "reply: 'HTTP/1.1 500 only rr_upload is supported for POST requests\\r\\n'\n",
      "header: Connection: close\n",
      "send: b'GET /rr_model?key=seqs HTTP/1.1\\r\\nHost: 192.168.1.2\\r\\nUser-Agent: python-requests/2.31.0\\r\\nAccept-Encoding: gzip, deflate, br\\r\\nAccept: */*\\r\\nConnection: close\\r\\n\\r\\n'\n",
      "reply: 'HTTP/1.1 200 OK\\r\\n'\n",
      "header: Cache-Control: no-cache, no-store, must-revalidate\n",
      "header: Pragma: no-cache\n",
      "header: Expires: 0\n",
      "header: Content-Type: application/json\n",
      "header: Content-Length: 243\n",
      "header: Connection: close\n",
      "send: b'GET /rr_gcode?gcode=T HTTP/1.1\\r\\nHost: 192.168.1.2\\r\\nUser-Agent: python-requests/2.31.0\\r\\nAccept-Encoding: gzip, deflate, br\\r\\nAccept: */*\\r\\nConnection: close\\r\\n\\r\\n'\n",
      "reply: 'HTTP/1.1 200 OK\\r\\n'\n",
      "header: Cache-Control: no-cache, no-store, must-revalidate\n",
      "header: Pragma: no-cache\n",
      "header: Expires: 0\n",
      "header: Content-Type: application/json\n",
      "header: Content-Length: 12\n",
      "header: Connection: close\n",
      "send: b'GET /rr_model?key=seqs HTTP/1.1\\r\\nHost: 192.168.1.2\\r\\nUser-Agent: python-requests/2.31.0\\r\\nAccept-Encoding: gzip, deflate, br\\r\\nAccept: */*\\r\\nConnection: close\\r\\n\\r\\n'\n",
      "reply: 'HTTP/1.1 200 OK\\r\\n'\n",
      "header: Cache-Control: no-cache, no-store, must-revalidate\n",
      "header: Pragma: no-cache\n",
      "header: Expires: 0\n",
      "header: Content-Type: application/json\n",
      "header: Content-Length: 243\n",
      "header: Connection: close\n",
      "send: b'GET /rr_reply HTTP/1.1\\r\\nHost: 192.168.1.2\\r\\nUser-Agent: python-requests/2.31.0\\r\\nAccept-Encoding: gzip, deflate, br\\r\\nAccept: */*\\r\\nConnection: close\\r\\n\\r\\n'\n",
      "reply: 'HTTP/1.1 200 OK\\r\\n'\n",
      "header: Cache-Control: no-cache, no-store, must-revalidate\n",
      "header: Pragma: no-cache\n",
      "header: Expires: 0\n",
      "header: Content-Type: text/plain\n",
      "header: Content-Length: 20\n",
      "header: Connection: close\n",
      "send: b'POST /machine/code HTTP/1.1\\r\\nHost: 192.168.1.2\\r\\nUser-Agent: python-requests/2.31.0\\r\\nAccept-Encoding: gzip, deflate, br\\r\\nAccept: */*\\r\\nConnection: keep-alive\\r\\nContent-Length: 13\\r\\n\\r\\n'\n",
      "send: b'M409 K\"tools\"'\n",
      "reply: 'HTTP/1.1 500 only rr_upload is supported for POST requests\\r\\n'\n",
      "header: Connection: close\n",
      "send: b'GET /rr_model?key=seqs HTTP/1.1\\r\\nHost: 192.168.1.2\\r\\nUser-Agent: python-requests/2.31.0\\r\\nAccept-Encoding: gzip, deflate, br\\r\\nAccept: */*\\r\\nConnection: close\\r\\n\\r\\n'\n",
      "reply: 'HTTP/1.1 200 OK\\r\\n'\n",
      "header: Cache-Control: no-cache, no-store, must-revalidate\n",
      "header: Pragma: no-cache\n",
      "header: Expires: 0\n",
      "header: Content-Type: application/json\n",
      "header: Content-Length: 243\n",
      "header: Connection: close\n",
      "send: b'GET /rr_gcode?gcode=M409%20K%22tools%22 HTTP/1.1\\r\\nHost: 192.168.1.2\\r\\nUser-Agent: python-requests/2.31.0\\r\\nAccept-Encoding: gzip, deflate, br\\r\\nAccept: */*\\r\\nConnection: close\\r\\n\\r\\n'\n",
      "reply: 'HTTP/1.1 200 OK\\r\\n'\n",
      "header: Cache-Control: no-cache, no-store, must-revalidate\n",
      "header: Pragma: no-cache\n",
      "header: Expires: 0\n",
      "header: Content-Type: application/json\n",
      "header: Content-Length: 12\n",
      "header: Connection: close\n",
      "send: b'GET /rr_model?key=seqs HTTP/1.1\\r\\nHost: 192.168.1.2\\r\\nUser-Agent: python-requests/2.31.0\\r\\nAccept-Encoding: gzip, deflate, br\\r\\nAccept: */*\\r\\nConnection: close\\r\\n\\r\\n'\n",
      "reply: 'HTTP/1.1 200 OK\\r\\n'\n",
      "header: Cache-Control: no-cache, no-store, must-revalidate\n",
      "header: Pragma: no-cache\n",
      "header: Expires: 0\n",
      "header: Content-Type: application/json\n",
      "header: Content-Length: 243\n",
      "header: Connection: close\n",
      "send: b'GET /rr_reply HTTP/1.1\\r\\nHost: 192.168.1.2\\r\\nUser-Agent: python-requests/2.31.0\\r\\nAccept-Encoding: gzip, deflate, br\\r\\nAccept: */*\\r\\nConnection: close\\r\\n\\r\\n'\n",
      "reply: 'HTTP/1.1 200 OK\\r\\n'\n",
      "header: Cache-Control: no-cache, no-store, must-revalidate\n",
      "header: Pragma: no-cache\n",
      "header: Expires: 0\n",
      "header: Content-Type: text/plain\n",
      "header: Content-Length: 782\n",
      "header: Connection: close\n",
      "send: b'POST /machine/code HTTP/1.1\\r\\nHost: 192.168.1.2\\r\\nUser-Agent: python-requests/2.31.0\\r\\nAccept-Encoding: gzip, deflate, br\\r\\nAccept: */*\\r\\nConnection: keep-alive\\r\\nContent-Length: 17\\r\\n\\r\\n'\n",
      "send: b'M409 K\"move.axes\"'\n",
      "reply: 'HTTP/1.1 500 only rr_upload is supported for POST requests\\r\\n'\n",
      "header: Connection: close\n",
      "send: b'GET /rr_model?key=seqs HTTP/1.1\\r\\nHost: 192.168.1.2\\r\\nUser-Agent: python-requests/2.31.0\\r\\nAccept-Encoding: gzip, deflate, br\\r\\nAccept: */*\\r\\nConnection: close\\r\\n\\r\\n'\n",
      "reply: 'HTTP/1.1 200 OK\\r\\n'\n",
      "header: Cache-Control: no-cache, no-store, must-revalidate\n",
      "header: Pragma: no-cache\n",
      "header: Expires: 0\n",
      "header: Content-Type: application/json\n",
      "header: Content-Length: 243\n",
      "header: Connection: close\n",
      "send: b'GET /rr_gcode?gcode=M409%20K%22move.axes%22 HTTP/1.1\\r\\nHost: 192.168.1.2\\r\\nUser-Agent: python-requests/2.31.0\\r\\nAccept-Encoding: gzip, deflate, br\\r\\nAccept: */*\\r\\nConnection: close\\r\\n\\r\\n'\n",
      "reply: 'HTTP/1.1 200 OK\\r\\n'\n",
      "header: Cache-Control: no-cache, no-store, must-revalidate\n",
      "header: Pragma: no-cache\n",
      "header: Expires: 0\n",
      "header: Content-Type: application/json\n",
      "header: Content-Length: 12\n",
      "header: Connection: close\n",
      "send: b'GET /rr_model?key=seqs HTTP/1.1\\r\\nHost: 192.168.1.2\\r\\nUser-Agent: python-requests/2.31.0\\r\\nAccept-Encoding: gzip, deflate, br\\r\\nAccept: */*\\r\\nConnection: close\\r\\n\\r\\n'\n",
      "reply: 'HTTP/1.1 200 OK\\r\\n'\n",
      "header: Cache-Control: no-cache, no-store, must-revalidate\n",
      "header: Pragma: no-cache\n",
      "header: Expires: 0\n",
      "header: Content-Type: application/json\n",
      "header: Content-Length: 243\n",
      "header: Connection: close\n",
      "send: b'GET /rr_reply HTTP/1.1\\r\\nHost: 192.168.1.2\\r\\nUser-Agent: python-requests/2.31.0\\r\\nAccept-Encoding: gzip, deflate, br\\r\\nAccept: */*\\r\\nConnection: close\\r\\n\\r\\n'\n",
      "reply: 'HTTP/1.1 200 OK\\r\\n'\n",
      "header: Cache-Control: no-cache, no-store, must-revalidate\n",
      "header: Pragma: no-cache\n",
      "header: Expires: 0\n",
      "header: Content-Type: text/plain\n",
      "header: Content-Length: 2042\n",
      "header: Connection: close\n",
      "send: b'POST /machine/code HTTP/1.1\\r\\nHost: 192.168.1.2\\r\\nUser-Agent: python-requests/2.31.0\\r\\nAccept-Encoding: gzip, deflate, br\\r\\nAccept: */*\\r\\nConnection: keep-alive\\r\\nContent-Length: 3\\r\\n\\r\\n'\n",
      "send: b'G90'\n",
      "reply: 'HTTP/1.1 500 only rr_upload is supported for POST requests\\r\\n'\n",
      "header: Connection: close\n",
      "send: b'GET /rr_model?key=seqs HTTP/1.1\\r\\nHost: 192.168.1.2\\r\\nUser-Agent: python-requests/2.31.0\\r\\nAccept-Encoding: gzip, deflate, br\\r\\nAccept: */*\\r\\nConnection: close\\r\\n\\r\\n'\n",
      "reply: 'HTTP/1.1 200 OK\\r\\n'\n",
      "header: Cache-Control: no-cache, no-store, must-revalidate\n",
      "header: Pragma: no-cache\n",
      "header: Expires: 0\n",
      "header: Content-Type: application/json\n",
      "header: Content-Length: 243\n",
      "header: Connection: close\n",
      "send: b'GET /rr_gcode?gcode=G90 HTTP/1.1\\r\\nHost: 192.168.1.2\\r\\nUser-Agent: python-requests/2.31.0\\r\\nAccept-Encoding: gzip, deflate, br\\r\\nAccept: */*\\r\\nConnection: close\\r\\n\\r\\n'\n",
      "reply: 'HTTP/1.1 200 OK\\r\\n'\n",
      "header: Cache-Control: no-cache, no-store, must-revalidate\n",
      "header: Pragma: no-cache\n",
      "header: Expires: 0\n",
      "header: Content-Type: application/json\n",
      "header: Content-Length: 12\n",
      "header: Connection: close\n",
      "send: b'GET /rr_model?key=seqs HTTP/1.1\\r\\nHost: 192.168.1.2\\r\\nUser-Agent: python-requests/2.31.0\\r\\nAccept-Encoding: gzip, deflate, br\\r\\nAccept: */*\\r\\nConnection: close\\r\\n\\r\\n'\n",
      "reply: 'HTTP/1.1 200 OK\\r\\n'\n",
      "header: Cache-Control: no-cache, no-store, must-revalidate\n",
      "header: Pragma: no-cache\n",
      "header: Expires: 0\n",
      "header: Content-Type: application/json\n",
      "header: Content-Length: 243\n",
      "header: Connection: close\n",
      "send: b'GET /rr_reply HTTP/1.1\\r\\nHost: 192.168.1.2\\r\\nUser-Agent: python-requests/2.31.0\\r\\nAccept-Encoding: gzip, deflate, br\\r\\nAccept: */*\\r\\nConnection: close\\r\\n\\r\\n'\n",
      "reply: 'HTTP/1.1 200 OK\\r\\n'\n",
      "header: Cache-Control: no-cache, no-store, must-revalidate\n",
      "header: Pragma: no-cache\n",
      "header: Expires: 0\n",
      "header: Content-Type: text/plain\n",
      "header: Content-Length: 1\n",
      "header: Connection: close\n",
      "send: b'POST /machine/code HTTP/1.1\\r\\nHost: 192.168.1.2\\r\\nUser-Agent: python-requests/2.31.0\\r\\nAccept-Encoding: gzip, deflate, br\\r\\nAccept: */*\\r\\nConnection: keep-alive\\r\\nContent-Length: 3\\r\\n\\r\\n'\n",
      "send: b'G90'\n",
      "reply: 'HTTP/1.1 500 only rr_upload is supported for POST requests\\r\\n'\n",
      "header: Connection: close\n",
      "send: b'GET /rr_model?key=seqs HTTP/1.1\\r\\nHost: 192.168.1.2\\r\\nUser-Agent: python-requests/2.31.0\\r\\nAccept-Encoding: gzip, deflate, br\\r\\nAccept: */*\\r\\nConnection: close\\r\\n\\r\\n'\n",
      "reply: 'HTTP/1.1 200 OK\\r\\n'\n",
      "header: Cache-Control: no-cache, no-store, must-revalidate\n",
      "header: Pragma: no-cache\n",
      "header: Expires: 0\n",
      "header: Content-Type: application/json\n",
      "header: Content-Length: 243\n",
      "header: Connection: close\n",
      "send: b'GET /rr_gcode?gcode=G90 HTTP/1.1\\r\\nHost: 192.168.1.2\\r\\nUser-Agent: python-requests/2.31.0\\r\\nAccept-Encoding: gzip, deflate, br\\r\\nAccept: */*\\r\\nConnection: close\\r\\n\\r\\n'\n",
      "reply: 'HTTP/1.1 200 OK\\r\\n'\n",
      "header: Cache-Control: no-cache, no-store, must-revalidate\n",
      "header: Pragma: no-cache\n",
      "header: Expires: 0\n",
      "header: Content-Type: application/json\n",
      "header: Content-Length: 12\n",
      "header: Connection: close\n",
      "send: b'GET /rr_model?key=seqs HTTP/1.1\\r\\nHost: 192.168.1.2\\r\\nUser-Agent: python-requests/2.31.0\\r\\nAccept-Encoding: gzip, deflate, br\\r\\nAccept: */*\\r\\nConnection: close\\r\\n\\r\\n'\n",
      "reply: 'HTTP/1.1 200 OK\\r\\n'\n",
      "header: Cache-Control: no-cache, no-store, must-revalidate\n",
      "header: Pragma: no-cache\n",
      "header: Expires: 0\n",
      "header: Content-Type: application/json\n",
      "header: Content-Length: 243\n",
      "header: Connection: close\n",
      "send: b'GET /rr_reply HTTP/1.1\\r\\nHost: 192.168.1.2\\r\\nUser-Agent: python-requests/2.31.0\\r\\nAccept-Encoding: gzip, deflate, br\\r\\nAccept: */*\\r\\nConnection: close\\r\\n\\r\\n'\n",
      "reply: 'HTTP/1.1 200 OK\\r\\n'\n",
      "header: Cache-Control: no-cache, no-store, must-revalidate\n",
      "header: Pragma: no-cache\n",
      "header: Expires: 0\n",
      "header: Content-Type: text/plain\n",
      "header: Content-Length: 1\n",
      "header: Connection: close\n"
     ]
    }
   ],
   "source": [
    "jub = Machine.Machine(address = '192.168.1.2')"
   ]
  },
  {
   "cell_type": "code",
   "execution_count": null,
   "id": "2ba18b02-d1e5-465f-9103-6f5218812181",
   "metadata": {},
   "outputs": [],
   "source": [
    "jub.home_all()"
   ]
  },
  {
   "cell_type": "code",
   "execution_count": 17,
   "id": "01e13d61-4284-4cdd-af75-b82220bf3332",
   "metadata": {},
   "outputs": [
    {
     "data": {
      "text/plain": [
       "{'User-Agent': 'python-requests/2.31.0', 'Accept-Encoding': 'gzip, deflate, br', 'Accept': '*/*', 'Connection': 'close'}"
      ]
     },
     "execution_count": 17,
     "metadata": {},
     "output_type": "execute_result"
    }
   ],
   "source": [
    "jub.session.headers"
   ]
  },
  {
   "cell_type": "code",
   "execution_count": null,
   "id": "5c76d58e-1d39-4462-b8cc-aaa9c19c8f50",
   "metadata": {},
   "outputs": [],
   "source": []
  }
 ],
 "metadata": {
  "kernelspec": {
   "display_name": "Python 3 (ipykernel)",
   "language": "python",
   "name": "python3"
  },
  "language_info": {
   "codemirror_mode": {
    "name": "ipython",
    "version": 3
   },
   "file_extension": ".py",
   "mimetype": "text/x-python",
   "name": "python",
   "nbconvert_exporter": "python",
   "pygments_lexer": "ipython3",
   "version": "3.9.18"
  }
 },
 "nbformat": 4,
 "nbformat_minor": 5
}
