{
 "cells": [
  {
   "cell_type": "code",
   "execution_count": 1,
   "id": "b656762c-1ca9-4f9c-9ba6-86a3f7190265",
   "metadata": {},
   "outputs": [],
   "source": [
    "%load_ext autoreload\n",
    "\n",
    "%autoreload 2"
   ]
  },
  {
   "cell_type": "code",
   "execution_count": 2,
   "id": "1127740c-7620-447b-8204-741dfc8fe3cc",
   "metadata": {},
   "outputs": [],
   "source": [
    "import requests\n",
    "\n",
    "# ----------- Science Jubilee -------------\n",
    "from science_jubilee import Machine as Jub\n",
    "from science_jubilee.tools import HTTPSyringe as syringe\n",
    "import time\n"
   ]
  },
  {
   "cell_type": "code",
   "execution_count": 3,
   "id": "64788e2b-4060-4b44-8c87-cf6a880ad318",
   "metadata": {},
   "outputs": [],
   "source": [
    "url = 'http://192.168.1.5:5000'\n",
    "volume = {'volume':5}"
   ]
  },
  {
   "cell_type": "code",
   "execution_count": 4,
   "id": "d1be2c94-8669-4bea-b057-a4a3acf035fd",
   "metadata": {},
   "outputs": [],
   "source": [
    "r = requests.post(url + '/get_status', json = {'name':'1cc_2'})"
   ]
  },
  {
   "cell_type": "code",
   "execution_count": 5,
   "id": "bfd36a85-fdfa-47d3-9899-b1193f0c24a7",
   "metadata": {},
   "outputs": [
    {
     "data": {
      "text/plain": [
       "b'{\"remaining_volume\":null,\"syringe_loaded\":false}\\n'"
      ]
     },
     "execution_count": 5,
     "metadata": {},
     "output_type": "execute_result"
    }
   ],
   "source": [
    "r.content"
   ]
  },
  {
   "cell_type": "code",
   "execution_count": 6,
   "id": "8228ca74-92e4-4761-b4ef-ef0c50fe7381",
   "metadata": {},
   "outputs": [],
   "source": [
    "jubilee = Jub.Machine(address='192.168.1.2', simulated = False) "
   ]
  },
  {
   "cell_type": "code",
   "execution_count": 7,
   "id": "c3d3bf61-1aed-476b-b36c-e2c5891f4986",
   "metadata": {},
   "outputs": [],
   "source": [
    "#jubilee.home_all()"
   ]
  },
  {
   "cell_type": "code",
   "execution_count": 7,
   "id": "30f0c9b9-98da-46f9-945c-34607d3abaf5",
   "metadata": {},
   "outputs": [],
   "source": [
    "deck = jubilee.load_deck('lab_automation_deck.json')"
   ]
  },
  {
   "cell_type": "markdown",
   "id": "9b3f6a03-ceb8-4e92-8018-5f451dec546d",
   "metadata": {},
   "source": [
    "# load a well plate "
   ]
  },
  {
   "cell_type": "code",
   "execution_count": 8,
   "id": "76695d63-a431-4f0c-b3ef-4f7d7a4dd976",
   "metadata": {},
   "outputs": [
    {
     "name": "stdout",
     "output_type": "stream",
     "text": [
      "New manual offset applied to falcon_48_wellplate_1500ul\n"
     ]
    }
   ],
   "source": [
    "samples = jubilee.load_labware('falcon_48_wellplate_1500ul.json', 0)\n",
    "samples.manual_offset([(21.4, 82.9), (134.1, 83.2), (133.9, 12.8)])"
   ]
  },
  {
   "cell_type": "code",
   "execution_count": 9,
   "id": "ddb61ae3-feaf-4c6d-a7eb-1ad8abe41454",
   "metadata": {},
   "outputs": [],
   "source": [
    "stocks = jubilee.load_labware('20mlscintillation_12_wellplate_18000ul.json', 3)\n",
    "#stocks.manual_offset()"
   ]
  },
  {
   "cell_type": "code",
   "execution_count": 10,
   "id": "8378fc8c-b57c-4f31-8acd-f681403444cc",
   "metadata": {},
   "outputs": [],
   "source": [
    "syringe_10 = syringe.HTTPSyringe.from_config(1, \"src/science_jubilee/tools/configs/10cc_syringe.json\")"
   ]
  },
  {
   "cell_type": "code",
   "execution_count": 11,
   "id": "803089bb-35b7-4590-925c-220f86a98827",
   "metadata": {},
   "outputs": [],
   "source": [
    "syringe_1_1 = syringe.HTTPSyringe.from_config(2, \"src/science_jubilee/tools/configs/1cc_1_syringe.json\")"
   ]
  },
  {
   "cell_type": "code",
   "execution_count": 12,
   "id": "05164855-022b-4ca1-ba95-44ccaece855b",
   "metadata": {},
   "outputs": [],
   "source": [
    "syringe_1_2 = syringe.HTTPSyringe.from_config(3, \"src/science_jubilee/tools/configs/1cc_2_syringe.json\")\n",
    "syringe_1_3 = syringe.HTTPSyringe.from_config(4, \"src/science_jubilee/tools/configs/1cc_3_syringe.json\")"
   ]
  },
  {
   "cell_type": "code",
   "execution_count": null,
   "id": "922e4387-4089-43cd-8b60-4a52b6dd86f8",
   "metadata": {},
   "outputs": [],
   "source": []
  },
  {
   "cell_type": "code",
   "execution_count": 13,
   "id": "cdf950ad-b31f-4af7-883f-28ed9be7ebe0",
   "metadata": {},
   "outputs": [],
   "source": [
    "jubilee.load_tool(syringe_10)\n",
    "jubilee.load_tool(syringe_1_1)\n",
    "jubilee.load_tool(syringe_1_2)\n",
    "jubilee.load_tool(syringe_1_3)"
   ]
  },
  {
   "cell_type": "code",
   "execution_count": 14,
   "id": "4febab10-2592-4ffa-8435-79944923c1f8",
   "metadata": {},
   "outputs": [
    {
     "data": {
      "text/plain": [
       "{'remaining_volume': None, 'syringe_loaded': False}"
      ]
     },
     "execution_count": 14,
     "metadata": {},
     "output_type": "execute_result"
    }
   ],
   "source": [
    "syringe_1_1.status()"
   ]
  },
  {
   "cell_type": "code",
   "execution_count": 59,
   "id": "cd70098e-8cf9-40db-a50b-7c72cc723979",
   "metadata": {},
   "outputs": [],
   "source": [
    "jubilee.pickup_tool(syringe_1_1)"
   ]
  },
  {
   "cell_type": "code",
   "execution_count": 20,
   "id": "df8d2f4e-b37a-4fe5-a2a1-2aa871dcfcea",
   "metadata": {},
   "outputs": [],
   "source": [
    "syringe_1_1.set_pulsewidth(1850)"
   ]
  },
  {
   "cell_type": "code",
   "execution_count": 21,
   "id": "cc8a3f25-f2de-4440-91ff-ab139923bc64",
   "metadata": {},
   "outputs": [
    {
     "name": "stdout",
     "output_type": "stream",
     "text": [
      "Loaded syringe, remaining volume 0 uL\n"
     ]
    }
   ],
   "source": [
    "syringe_1_1.load_syringe(0, 1850)"
   ]
  },
  {
   "cell_type": "markdown",
   "id": "780dab33-4b61-4d6f-b0e7-50e51fe4d79a",
   "metadata": {},
   "source": [
    "## Manual syringe load:"
   ]
  },
  {
   "cell_type": "code",
   "execution_count": 21,
   "id": "a9791e7c-fc23-48dc-a77b-0743bead2bcd",
   "metadata": {},
   "outputs": [],
   "source": [
    "syringe_1_1.set_pulsewidth(syringe_1_1.empty_position-1)"
   ]
  },
  {
   "cell_type": "code",
   "execution_count": 22,
   "id": "c9a07015-1ba3-46e7-b649-375d9c0d1cd4",
   "metadata": {},
   "outputs": [],
   "source": [
    "aspirate = samples[0].bottom(+200)\n",
    "aspirate_vol = 995 #- syringe_1_1.remaining_volume\n",
    "#aspirate_vol = 9995\n",
    "syringe_1_1.aspirate(aspirate_vol, aspirate)"
   ]
  },
  {
   "cell_type": "code",
   "execution_count": 32,
   "id": "0a969881-81f4-4fd2-9853-787a5f7af82a",
   "metadata": {},
   "outputs": [],
   "source": [
    "syringe_1_1.set_pulsewidth(1550)"
   ]
  },
  {
   "cell_type": "code",
   "execution_count": 96,
   "id": "5b057cac-d29f-465e-85bd-bd67674f8581",
   "metadata": {},
   "outputs": [],
   "source": [
    "## Run dispense experiment "
   ]
  },
  {
   "cell_type": "code",
   "execution_count": 97,
   "id": "384dddd4-8986-4472-8a36-62af9542644e",
   "metadata": {},
   "outputs": [],
   "source": [
    "# time step sequence:\n",
    "\"\"\"\n",
    "3 samples per each:\n",
    "- 1\n",
    "- 10\n",
    "- 50\n",
    "- 100\n",
    "- 200\n",
    "- 300\n",
    "\"\"\"\n",
    "\n",
    "#### Modify here\n",
    "test_step = 300\n",
    "\n",
    "######Don't touch here ######\n",
    "syringe_1.set_pulsewidth(1300)\n",
    "syringe_pulsewidth = 1300\n",
    "\n",
    "jubilee.pickup_tool(syringe_1)\n",
    "for i in range(1):\n",
    "    dispense_location = samples[i].bottom(+25)\n",
    "    new_pulsewidth = syringe_pulsewidth + test_step\n",
    "    syringe_pulsewidth = new_pulsewidth\n",
    "    jubilee.move_to(z = jubilee.deck.safe_z)\n",
    "\n",
    "    jubilee.move_to(x = dispense_location.point[0], y = dispense_location.point[1], wait = True)\n",
    "    jubilee.move_to(z = dispense_location.point[2], wait = True)\n",
    "    syringe_1.set_pulsewidth(new_pulsewidth)\n",
    "    time.sleep(10)\n"
   ]
  },
  {
   "cell_type": "markdown",
   "id": "d4a97722-fa87-4429-a402-ebd10249d3e8",
   "metadata": {},
   "source": [
    "## Check calibration"
   ]
  },
  {
   "cell_type": "code",
   "execution_count": 30,
   "id": "35e34491-d83c-4170-be01-9e57e69df13e",
   "metadata": {},
   "outputs": [],
   "source": [
    "#syringe_1_1.dispense(30, samples[0])"
   ]
  },
  {
   "cell_type": "code",
   "execution_count": 31,
   "id": "da2dab5b-559b-4292-b9b4-1fa712627b93",
   "metadata": {},
   "outputs": [],
   "source": [
    "dispense_vol = 100\n",
    "\n",
    "#jubilee.pickup_tool(syringe_1)\n",
    "for i in range(3):\n",
    "    dispense_location = samples[i].bottom(+30)\n",
    "    syringe_1_1.dispense(dispense_vol, dispense_location)\n",
    "    time.sleep(7)"
   ]
  },
  {
   "cell_type": "code",
   "execution_count": 19,
   "id": "eeb72787-3a2d-4892-950d-d0002fbe3ac7",
   "metadata": {},
   "outputs": [],
   "source": [
    "dispense_location = samples[1].bottom(+25)"
   ]
  },
  {
   "cell_type": "code",
   "execution_count": 20,
   "id": "73d8deb6-647a-4a8d-9b55-17571b8bb32d",
   "metadata": {},
   "outputs": [
    {
     "data": {
      "text/plain": [
       "Location(point=(37.499996100392444, 82.85570212147425, 27.41), labware=Well A2 form Falcon 48 Well Plate 1500 µL on slot 0)"
      ]
     },
     "execution_count": 20,
     "metadata": {},
     "output_type": "execute_result"
    }
   ],
   "source": [
    "dispense_location"
   ]
  },
  {
   "cell_type": "code",
   "execution_count": 27,
   "id": "28c46881-8743-4c64-8ed7-410c14e4807f",
   "metadata": {},
   "outputs": [
    {
     "data": {
      "text/plain": [
       "Well A2 form Falcon 48 Well Plate 1500 µL on slot 0"
      ]
     },
     "execution_count": 27,
     "metadata": {},
     "output_type": "execute_result"
    }
   ],
   "source": [
    "samples[1]"
   ]
  },
  {
   "cell_type": "code",
   "execution_count": 50,
   "id": "56618d83-1ab6-4e32-aff7-4efc4b2dcf7f",
   "metadata": {},
   "outputs": [],
   "source": [
    "jubilee.park_tool()"
   ]
  },
  {
   "cell_type": "code",
   "execution_count": null,
   "id": "d060c6b6-c93e-42ac-b4d3-9270b8b224c1",
   "metadata": {},
   "outputs": [],
   "source": []
  }
 ],
 "metadata": {
  "kernelspec": {
   "display_name": "Python 3 (ipykernel)",
   "language": "python",
   "name": "python3"
  },
  "language_info": {
   "codemirror_mode": {
    "name": "ipython",
    "version": 3
   },
   "file_extension": ".py",
   "mimetype": "text/x-python",
   "name": "python",
   "nbconvert_exporter": "python",
   "pygments_lexer": "ipython3",
   "version": "3.9.19"
  }
 },
 "nbformat": 4,
 "nbformat_minor": 5
}
